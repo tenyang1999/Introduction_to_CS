{
 "cells": [
  {
   "attachments": {},
   "cell_type": "markdown",
   "metadata": {},
   "source": [
    "# 1"
   ]
  },
  {
   "cell_type": "code",
   "execution_count": 17,
   "metadata": {},
   "outputs": [
    {
     "name": "stdout",
     "output_type": "stream",
     "text": [
      "2.0 vs. 3 vs. 4\n"
     ]
    }
   ],
   "source": [
    "# a\n",
    "print(10.0/5, \"vs.\", 19//5, \"vs.\", 19%5)"
   ]
  },
  {
   "cell_type": "code",
   "execution_count": 18,
   "metadata": {},
   "outputs": [
    {
     "name": "stdout",
     "output_type": "stream",
     "text": [
      "11.0\n"
     ]
    }
   ],
   "source": [
    "# b\n",
    "print((5 + 4.0) / 3*2 + 5%6)"
   ]
  },
  {
   "cell_type": "code",
   "execution_count": 19,
   "metadata": {},
   "outputs": [
    {
     "ename": "SyntaxError",
     "evalue": "invalid syntax (3099429980.py, line 2)",
     "output_type": "error",
     "traceback": [
      "\u001b[0;36m  Cell \u001b[0;32mIn [19], line 2\u001b[0;36m\u001b[0m\n\u001b[0;31m    1a, 2b, 3c = 2, 3, 5\u001b[0m\n\u001b[0m     ^\u001b[0m\n\u001b[0;31mSyntaxError\u001b[0m\u001b[0;31m:\u001b[0m invalid syntax\n"
     ]
    }
   ],
   "source": [
    "# c\n",
    "1a, 2b, 3c = 2, 3, 5\n",
    "x, y, z = 1a*2b, 2b*3c, 3c*1a\n",
    "# 命名不可使用數字當作變數開頭"
   ]
  },
  {
   "cell_type": "code",
   "execution_count": 20,
   "metadata": {},
   "outputs": [
    {
     "name": "stdout",
     "output_type": "stream",
     "text": [
      "25.0\n"
     ]
    }
   ],
   "source": [
    "# d\n",
    "alpha, x = 0.5, 10\n",
    "answer = alpha*x*x\n",
    "answer /= 2\n",
    "print(answer)"
   ]
  },
  {
   "cell_type": "code",
   "execution_count": 21,
   "metadata": {},
   "outputs": [
    {
     "ename": "NameError",
     "evalue": "name 'b' is not defined",
     "output_type": "error",
     "traceback": [
      "\u001b[0;31m---------------------------------------------------------------------------\u001b[0m",
      "\u001b[0;31mNameError\u001b[0m                                 Traceback (most recent call last)",
      "\u001b[1;32m/home/re6114056/midterm.ipynb Cell 6\u001b[0m in \u001b[0;36m3\n\u001b[1;32m      <a href='vscode-notebook-cell://ssh-remote%2B140.116.52.214/home/re6114056/midterm.ipynb#W5sdnNjb2RlLXJlbW90ZQ%3D%3D?line=0'>1</a>\u001b[0m \u001b[39m# e\u001b[39;00m\n\u001b[1;32m      <a href='vscode-notebook-cell://ssh-remote%2B140.116.52.214/home/re6114056/midterm.ipynb#W5sdnNjb2RlLXJlbW90ZQ%3D%3D?line=1'>2</a>\u001b[0m \u001b[39m# a, b =2, 5\u001b[39;00m\n\u001b[0;32m----> <a href='vscode-notebook-cell://ssh-remote%2B140.116.52.214/home/re6114056/midterm.ipynb#W5sdnNjb2RlLXJlbW90ZQ%3D%3D?line=2'>3</a>\u001b[0m a, b \u001b[39m=\u001b[39m b\u001b[39m/\u001b[39m\u001b[39m/\u001b[39m\u001b[39m2\u001b[39m, a\u001b[39m/\u001b[39m\u001b[39m/\u001b[39mb\n\u001b[1;32m      <a href='vscode-notebook-cell://ssh-remote%2B140.116.52.214/home/re6114056/midterm.ipynb#W5sdnNjb2RlLXJlbW90ZQ%3D%3D?line=3'>4</a>\u001b[0m answer \u001b[39m=\u001b[39m a\u001b[39m/\u001b[39mb\n\u001b[1;32m      <a href='vscode-notebook-cell://ssh-remote%2B140.116.52.214/home/re6114056/midterm.ipynb#W5sdnNjb2RlLXJlbW90ZQ%3D%3D?line=4'>5</a>\u001b[0m \u001b[39mprint\u001b[39m(a, b)\n",
      "\u001b[0;31mNameError\u001b[0m: name 'b' is not defined"
     ]
    }
   ],
   "source": [
    "# e\n",
    "# a, b =2, 5\n",
    "a, b = b//2, a//b\n",
    "answer = a/b\n",
    "print(a, b)"
   ]
  },
  {
   "cell_type": "code",
   "execution_count": 22,
   "metadata": {},
   "outputs": [
    {
     "ename": "ValueError",
     "evalue": "invalid literal for int() with base 10: '3.14'",
     "output_type": "error",
     "traceback": [
      "\u001b[0;31m---------------------------------------------------------------------------\u001b[0m",
      "\u001b[0;31mValueError\u001b[0m                                Traceback (most recent call last)",
      "\u001b[1;32m/home/re6114056/midterm.ipynb Cell 7\u001b[0m in \u001b[0;36m3\n\u001b[1;32m      <a href='vscode-notebook-cell://ssh-remote%2B140.116.52.214/home/re6114056/midterm.ipynb#W6sdnNjb2RlLXJlbW90ZQ%3D%3D?line=0'>1</a>\u001b[0m \u001b[39m# f\u001b[39;00m\n\u001b[1;32m      <a href='vscode-notebook-cell://ssh-remote%2B140.116.52.214/home/re6114056/midterm.ipynb#W6sdnNjb2RlLXJlbW90ZQ%3D%3D?line=1'>2</a>\u001b[0m s \u001b[39m=\u001b[39m \u001b[39m'\u001b[39m\u001b[39m3.14\u001b[39m\u001b[39m'\u001b[39m\n\u001b[0;32m----> <a href='vscode-notebook-cell://ssh-remote%2B140.116.52.214/home/re6114056/midterm.ipynb#W6sdnNjb2RlLXJlbW90ZQ%3D%3D?line=2'>3</a>\u001b[0m \u001b[39mprint\u001b[39m(\u001b[39mfloat\u001b[39m(\u001b[39mint\u001b[39m(s)))\n",
      "\u001b[0;31mValueError\u001b[0m: invalid literal for int() with base 10: '3.14'"
     ]
    }
   ],
   "source": [
    "# f\n",
    "s = '3.14'\n",
    "print(float(int(s)))\n",
    "\n",
    "# 字串先轉浮點數再轉整數可以，先轉整數再轉浮點數不行"
   ]
  },
  {
   "cell_type": "code",
   "execution_count": 23,
   "metadata": {},
   "outputs": [
    {
     "ename": "TypeError",
     "evalue": "'str' object does not support item assignment",
     "output_type": "error",
     "traceback": [
      "\u001b[0;31m---------------------------------------------------------------------------\u001b[0m",
      "\u001b[0;31mTypeError\u001b[0m                                 Traceback (most recent call last)",
      "\u001b[1;32m/home/re6114056/midterm.ipynb Cell 8\u001b[0m in \u001b[0;36m3\n\u001b[1;32m      <a href='vscode-notebook-cell://ssh-remote%2B140.116.52.214/home/re6114056/midterm.ipynb#X10sdnNjb2RlLXJlbW90ZQ%3D%3D?line=0'>1</a>\u001b[0m \u001b[39m# g\u001b[39;00m\n\u001b[1;32m      <a href='vscode-notebook-cell://ssh-remote%2B140.116.52.214/home/re6114056/midterm.ipynb#X10sdnNjb2RlLXJlbW90ZQ%3D%3D?line=1'>2</a>\u001b[0m course \u001b[39m=\u001b[39m \u001b[39m'\u001b[39m\u001b[39mpython123\u001b[39m\u001b[39m'\u001b[39m\n\u001b[0;32m----> <a href='vscode-notebook-cell://ssh-remote%2B140.116.52.214/home/re6114056/midterm.ipynb#X10sdnNjb2RlLXJlbW90ZQ%3D%3D?line=2'>3</a>\u001b[0m course[\u001b[39m6\u001b[39m:] \u001b[39m=\u001b[39m \u001b[39m\"\u001b[39m\u001b[39m456\u001b[39m\u001b[39m\"\u001b[39m\n\u001b[1;32m      <a href='vscode-notebook-cell://ssh-remote%2B140.116.52.214/home/re6114056/midterm.ipynb#X10sdnNjb2RlLXJlbW90ZQ%3D%3D?line=3'>4</a>\u001b[0m \u001b[39mprint\u001b[39m(course)\n",
      "\u001b[0;31mTypeError\u001b[0m: 'str' object does not support item assignment"
     ]
    }
   ],
   "source": [
    "# g\n",
    "course = 'python123'\n",
    "course[6:] = \"456\"\n",
    "print(course)"
   ]
  },
  {
   "cell_type": "code",
   "execution_count": 24,
   "metadata": {},
   "outputs": [
    {
     "ename": "IndexError",
     "evalue": "string index out of range",
     "output_type": "error",
     "traceback": [
      "\u001b[0;31m---------------------------------------------------------------------------\u001b[0m",
      "\u001b[0;31mIndexError\u001b[0m                                Traceback (most recent call last)",
      "\u001b[1;32m/home/re6114056/midterm.ipynb Cell 9\u001b[0m in \u001b[0;36m3\n\u001b[1;32m      <a href='vscode-notebook-cell://ssh-remote%2B140.116.52.214/home/re6114056/midterm.ipynb#X11sdnNjb2RlLXJlbW90ZQ%3D%3D?line=0'>1</a>\u001b[0m \u001b[39m# h \u001b[39;00m\n\u001b[1;32m      <a href='vscode-notebook-cell://ssh-remote%2B140.116.52.214/home/re6114056/midterm.ipynb#X11sdnNjb2RlLXJlbW90ZQ%3D%3D?line=1'>2</a>\u001b[0m s \u001b[39m=\u001b[39m \u001b[39m'\u001b[39m\u001b[39mKelly\u001b[39m\u001b[39m'\u001b[39m\n\u001b[0;32m----> <a href='vscode-notebook-cell://ssh-remote%2B140.116.52.214/home/re6114056/midterm.ipynb#X11sdnNjb2RlLXJlbW90ZQ%3D%3D?line=2'>3</a>\u001b[0m \u001b[39mprint\u001b[39m(s[\u001b[39mlen\u001b[39m(s)])\n",
      "\u001b[0;31mIndexError\u001b[0m: string index out of range"
     ]
    }
   ],
   "source": [
    "# h \n",
    "s = 'Kelly'\n",
    "print(s[len(s)])"
   ]
  },
  {
   "cell_type": "code",
   "execution_count": 25,
   "metadata": {},
   "outputs": [
    {
     "name": "stdout",
     "output_type": "stream",
     "text": [
      "Tim's BMI is 020.170\n"
     ]
    }
   ],
   "source": [
    "# i \n",
    "print(\"%s's BMI is %07.3f\" % (\"Tim\", 20.17))"
   ]
  },
  {
   "cell_type": "code",
   "execution_count": 26,
   "metadata": {},
   "outputs": [
    {
     "name": "stdout",
     "output_type": "stream",
     "text": [
      "okgookgo\n"
     ]
    }
   ],
   "source": [
    "# j \n",
    "s, t = \"ok\", \"go\"\n",
    "print((s+t)*2)"
   ]
  },
  {
   "cell_type": "code",
   "execution_count": 27,
   "metadata": {},
   "outputs": [
    {
     "name": "stdout",
     "output_type": "stream",
     "text": [
      "ogramming? Yes, I love Python.\n"
     ]
    }
   ],
   "source": [
    "# k\n",
    "s = \"Do you love programming? Yes, I love Python.\"\n",
    "print(s[s.find('love')*2:])\n",
    "\n",
    "# s.find('love') = 7\n",
    "# s[7*2:] 取index14以後的element"
   ]
  },
  {
   "cell_type": "code",
   "execution_count": 28,
   "metadata": {},
   "outputs": [
    {
     "name": "stdout",
     "output_type": "stream",
     "text": [
      "n pnyothhtoy python\n"
     ]
    }
   ],
   "source": [
    "# l\n",
    "s = \"pnyothhtoynp\"\n",
    "print(s[-2], s[:-2], s[::-2])\n",
    "\n",
    "#　s[-2] : 取倒數第2個element\n",
    "#  s[:-2]: 取element直到倒數第2個的前一個\n",
    "#  s[::-2] : 由後每兩個element取一個"
   ]
  },
  {
   "attachments": {},
   "cell_type": "markdown",
   "metadata": {},
   "source": [
    "# 2"
   ]
  },
  {
   "cell_type": "code",
   "execution_count": 3,
   "metadata": {},
   "outputs": [
    {
     "name": "stdout",
     "output_type": "stream",
     "text": [
      "False\n"
     ]
    }
   ],
   "source": [
    "# a \n",
    "time, money = 100, 0\n",
    "print(not money and not time)\n",
    "# 0 代表False, 其餘數值代表 True\n",
    "# not money -> True\n",
    "# not time -> False\n",
    "# True and False -> False"
   ]
  },
  {
   "cell_type": "code",
   "execution_count": 30,
   "metadata": {},
   "outputs": [
    {
     "name": "stdout",
     "output_type": "stream",
     "text": [
      "17\n"
     ]
    }
   ],
   "source": [
    "# b \n",
    "print(0 + (4 or 6) + (5 or 0) + (0 or 8))\n",
    "\n",
    "# 4 or 6 = 4\n",
    "# 5 or 0 = 5\n",
    "# 0 or 8 = 8 \n",
    "#-------------\n",
    "#         17"
   ]
  },
  {
   "cell_type": "code",
   "execution_count": 8,
   "metadata": {},
   "outputs": [
    {
     "name": "stdout",
     "output_type": "stream",
     "text": [
      "False\n"
     ]
    }
   ],
   "source": [
    "# c\n",
    "n, i, check = 18, 1, True\n",
    "while i < n and check:\n",
    "    check = (n%i) != 0\n",
    "    i +=1\n",
    "print(check)"
   ]
  },
  {
   "cell_type": "code",
   "execution_count": 32,
   "metadata": {},
   "outputs": [
    {
     "name": "stdout",
     "output_type": "stream",
     "text": [
      "Happy New Year!\n"
     ]
    }
   ],
   "source": [
    "# d\n",
    "s, s_copy = \"Happy New Year!\", ''\n",
    "i = 0\n",
    "while i < len(s):\n",
    "    s_copy = s_copy + s[i]\n",
    "    i += 1\n",
    "print(s_copy)"
   ]
  },
  {
   "cell_type": "code",
   "execution_count": null,
   "metadata": {},
   "outputs": [],
   "source": [
    "# e\n",
    "x, y = 5, 0\n",
    "\n",
    "while x <= y or y <= x :\n",
    "    x, y = x - 1, y - 1\n",
    "\n",
    "print(\"Done!\")\n",
    "\n",
    "# infinite loop, no print"
   ]
  },
  {
   "cell_type": "code",
   "execution_count": 10,
   "metadata": {},
   "outputs": [
    {
     "name": "stdout",
     "output_type": "stream",
     "text": [
      "iteration:1 1 1\n",
      "iteration:2 1 2\n",
      "iteration:3 2 3\n",
      "iteration:4 3 5\n",
      "iteration:5 5 8\n",
      "iteration:6 8 13\n",
      "13\n"
     ]
    }
   ],
   "source": [
    "# f\n",
    "a, b, i = 1, 1, 1\n",
    "while i < 7:\n",
    "    print(\"iteration:%d\" %(i),a, b)\n",
    "    a, b, i = b , a+b, i+1\n",
    "    \n",
    "print(a)"
   ]
  },
  {
   "cell_type": "code",
   "execution_count": 12,
   "metadata": {},
   "outputs": [
    {
     "name": "stdout",
     "output_type": "stream",
     "text": [
      "120 72\n",
      "72 48\n",
      "48 24\n",
      "24 0\n",
      "24\n"
     ]
    }
   ],
   "source": [
    "# g\n",
    "a, b = 72, 120\n",
    "while b != 0:\n",
    "    t = b\n",
    "    b = a % b\n",
    "    a = t\n",
    "    print(a, b)\n",
    "print(a)\n",
    "    "
   ]
  },
  {
   "cell_type": "code",
   "execution_count": 13,
   "metadata": {},
   "outputs": [
    {
     "name": "stdout",
     "output_type": "stream",
     "text": [
      "20, 10, 5, 16, 8, 4, 2, 1.\n"
     ]
    }
   ],
   "source": [
    "# h\n",
    "n = 20\n",
    "while n != 1:\n",
    "    print(n, end=\", \")\n",
    "    if n % 2 == 0:\n",
    "        n = n//2\n",
    "    else:\n",
    "        n = n*3+1\n",
    "print(n, end=\".\\n\")"
   ]
  },
  {
   "attachments": {},
   "cell_type": "markdown",
   "metadata": {},
   "source": [
    "# 3"
   ]
  },
  {
   "cell_type": "code",
   "execution_count": 36,
   "metadata": {},
   "outputs": [
    {
     "ename": "TypeError",
     "evalue": "'str' object does not support item assignment",
     "output_type": "error",
     "traceback": [
      "\u001b[0;31m---------------------------------------------------------------------------\u001b[0m",
      "\u001b[0;31mTypeError\u001b[0m                                 Traceback (most recent call last)",
      "\u001b[1;32m/home/re6114056/midterm.ipynb Cell 24\u001b[0m in \u001b[0;36m5\n\u001b[1;32m      <a href='vscode-notebook-cell://ssh-remote%2B140.116.52.214/home/re6114056/midterm.ipynb#X32sdnNjb2RlLXJlbW90ZQ%3D%3D?line=2'>3</a>\u001b[0m d2 \u001b[39m=\u001b[39m \u001b[39m\"\u001b[39m\u001b[39mKobe Bryant 23\u001b[39m\u001b[39m\"\u001b[39m\n\u001b[1;32m      <a href='vscode-notebook-cell://ssh-remote%2B140.116.52.214/home/re6114056/midterm.ipynb#X32sdnNjb2RlLXJlbW90ZQ%3D%3D?line=3'>4</a>\u001b[0m d1[\u001b[39m2\u001b[39m] \u001b[39m=\u001b[39m \u001b[39m\"\u001b[39m\u001b[39m24\u001b[39m\u001b[39m\"\u001b[39m\n\u001b[0;32m----> <a href='vscode-notebook-cell://ssh-remote%2B140.116.52.214/home/re6114056/midterm.ipynb#X32sdnNjb2RlLXJlbW90ZQ%3D%3D?line=4'>5</a>\u001b[0m d2[\u001b[39m12\u001b[39m:] \u001b[39m=\u001b[39m \u001b[39m'\u001b[39m\u001b[39m24\u001b[39m\u001b[39m'\u001b[39m\n\u001b[1;32m      <a href='vscode-notebook-cell://ssh-remote%2B140.116.52.214/home/re6114056/midterm.ipynb#X32sdnNjb2RlLXJlbW90ZQ%3D%3D?line=6'>7</a>\u001b[0m \u001b[39mprint\u001b[39m(d1, d2)\n",
      "\u001b[0;31mTypeError\u001b[0m: 'str' object does not support item assignment"
     ]
    }
   ],
   "source": [
    "# a\n",
    "d1 = [\"Kobe\", \"Bryant\", 23]\n",
    "d2 = \"Kobe Bryant 23\"\n",
    "d1[2] = \"24\"\n",
    "d2[12:] = '24'\n",
    "\n",
    "print(d1, d2)\n",
    "#print('invalid, str object does not support item assignment')\n",
    "# 字串不可透過slicing的方式修改，但可取出字元\n",
    "# ex： print(d2[12:]) -> 23"
   ]
  },
  {
   "cell_type": "code",
   "execution_count": 37,
   "metadata": {},
   "outputs": [
    {
     "name": "stdout",
     "output_type": "stream",
     "text": [
      "55.0\n"
     ]
    }
   ],
   "source": [
    "# b\n",
    "weights = [50, 60, 70, 40]\n",
    "print((sum(weights)/len(weights)))"
   ]
  },
  {
   "cell_type": "code",
   "execution_count": 1,
   "metadata": {},
   "outputs": [
    {
     "name": "stdout",
     "output_type": "stream",
     "text": [
      "[['rock', 'paper'], 'scissor']\n"
     ]
    }
   ],
   "source": [
    "# c\n",
    "game = ['rock', 'paper']\n",
    "game = [game] + [\"scissor\"]\n",
    "print(game)"
   ]
  },
  {
   "cell_type": "code",
   "execution_count": 47,
   "metadata": {},
   "outputs": [
    {
     "name": "stdout",
     "output_type": "stream",
     "text": [
      "[5, 2, 4, 5, 2, 4]\n"
     ]
    }
   ],
   "source": [
    "# d\n",
    "n = [1, 3, 5, 2, 4, 6]\n",
    "print(n[2:5] * 2)"
   ]
  },
  {
   "cell_type": "code",
   "execution_count": 39,
   "metadata": {},
   "outputs": [
    {
     "name": "stdout",
     "output_type": "stream",
     "text": [
      "True\n"
     ]
    }
   ],
   "source": [
    "# e\n",
    "notes = [\"Do\", \"Re\", \"Mi\"]\n",
    "print(notes[2] == \"Mi\") "
   ]
  },
  {
   "cell_type": "code",
   "execution_count": 40,
   "metadata": {},
   "outputs": [
    {
     "name": "stdout",
     "output_type": "stream",
     "text": [
      "[1, 2, 3, 4, [5], 6]\n"
     ]
    }
   ],
   "source": [
    "# f\n",
    "n = [1, 2, 3]\n",
    "n.append(4)\n",
    "n.append([5])\n",
    "n.extend([6])\n",
    "print(n)"
   ]
  },
  {
   "cell_type": "code",
   "execution_count": 41,
   "metadata": {},
   "outputs": [
    {
     "name": "stdout",
     "output_type": "stream",
     "text": [
      "Bulbasaur->Charmander->Pikachu->Squirtle\n"
     ]
    }
   ],
   "source": [
    "# g \n",
    "data = \"Bulbasaur Charmander Pikachu\"\n",
    "print(\"->\".join(data.split(' ')+['Squirtle']))"
   ]
  },
  {
   "cell_type": "code",
   "execution_count": 42,
   "metadata": {},
   "outputs": [
    {
     "name": "stdout",
     "output_type": "stream",
     "text": [
      "False\n"
     ]
    }
   ],
   "source": [
    "# h\n",
    "v = [1, 2, 3, 4]\n",
    "p = v\n",
    "p[2] = 5\n",
    "print(p != v)"
   ]
  },
  {
   "cell_type": "code",
   "execution_count": 48,
   "metadata": {},
   "outputs": [
    {
     "name": "stdout",
     "output_type": "stream",
     "text": [
      "False\n"
     ]
    }
   ],
   "source": [
    "# i \n",
    "dogs = ['Rex', 'Rover']\n",
    "dogs = dogs.append('Fido') \n",
    "print(dogs == ['Rex', 'Rover', 'Fido'])\n",
    "# list.append(x) 沒有回傳值，dogs會轉變為None\n",
    "# 宜改為dogs.append('Fido')"
   ]
  },
  {
   "cell_type": "code",
   "execution_count": 50,
   "metadata": {},
   "outputs": [],
   "source": [
    "dogs"
   ]
  },
  {
   "cell_type": "code",
   "execution_count": 44,
   "metadata": {},
   "outputs": [
    {
     "name": "stdout",
     "output_type": "stream",
     "text": [
      "[5, 3, 2]\n"
     ]
    }
   ],
   "source": [
    "# j\n",
    "x = [5, 3, 2, 6, 1]\n",
    "x.remove(6)\n",
    "x.pop()\n",
    "x.insert(0, 0)\n",
    "x.sort(reverse=True)\n",
    "x.pop()\n",
    "print(x)"
   ]
  },
  {
   "attachments": {},
   "cell_type": "markdown",
   "metadata": {},
   "source": [
    "# 4"
   ]
  },
  {
   "cell_type": "code",
   "execution_count": 45,
   "metadata": {},
   "outputs": [
    {
     "name": "stdout",
     "output_type": "stream",
     "text": [
      "end\n",
      "pow\n",
      "2\n",
      "False\n"
     ]
    }
   ],
   "source": [
    "def four(x):\n",
    "    if x % 2 != 0:\n",
    "        if x ** 2 <= 36:\n",
    "            print('pow')\n",
    "        else:\n",
    "            print(x // 3)\n",
    "    else:\n",
    "        if x < 0:\n",
    "            print(False)\n",
    "        elif not x + 2 > 8:\n",
    "            print(x / 2)\n",
    "        else:\n",
    "            print('end')\n",
    "        \n",
    "four(12)\n",
    "four(1)\n",
    "four(7)\n",
    "four(-4)"
   ]
  },
  {
   "attachments": {},
   "cell_type": "markdown",
   "metadata": {},
   "source": [
    "# 5"
   ]
  },
  {
   "cell_type": "code",
   "execution_count": 46,
   "metadata": {},
   "outputs": [
    {
     "name": "stdout",
     "output_type": "stream",
     "text": [
      "39483\n",
      "8991\n"
     ]
    }
   ],
   "source": [
    "def five(num1,num2):\n",
    "    ans = 0\n",
    "    m, n = len(num1), len(num2)\n",
    "    i = 0\n",
    "    while i < m:\n",
    "        a = int(num1[m - 1 - i])\n",
    "        j = 0\n",
    "        while j < n :\n",
    "            b = int(num2[n - 1 - j])\n",
    "            ans += a * b * (10**(i+j))\n",
    "            j +=1\n",
    "        i += 1\n",
    "    print(ans)\n",
    "five('123','321')\n",
    "five('999','9')\n",
    " "
   ]
  },
  {
   "cell_type": "code",
   "execution_count": null,
   "metadata": {},
   "outputs": [],
   "source": []
  }
 ],
 "metadata": {
  "kernelspec": {
   "display_name": "python39_kernel",
   "language": "python",
   "name": "python39_kernel"
  },
  "language_info": {
   "codemirror_mode": {
    "name": "ipython",
    "version": 3
   },
   "file_extension": ".py",
   "mimetype": "text/x-python",
   "name": "python",
   "nbconvert_exporter": "python",
   "pygments_lexer": "ipython3",
   "version": "3.9.13"
  },
  "orig_nbformat": 4
 },
 "nbformat": 4,
 "nbformat_minor": 2
}
