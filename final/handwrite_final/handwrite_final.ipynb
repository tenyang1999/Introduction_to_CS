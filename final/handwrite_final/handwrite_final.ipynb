{
 "cells": [
  {
   "attachments": {},
   "cell_type": "markdown",
   "metadata": {},
   "source": [
    "# 1"
   ]
  },
  {
   "cell_type": "code",
   "execution_count": 1,
   "metadata": {},
   "outputs": [
    {
     "name": "stdout",
     "output_type": "stream",
     "text": [
      "2\n"
     ]
    }
   ],
   "source": [
    "#a\n",
    "s = 1.23\n",
    "print(int(float(str((s))))+int(s))"
   ]
  },
  {
   "cell_type": "code",
   "execution_count": 2,
   "metadata": {},
   "outputs": [
    {
     "name": "stdout",
     "output_type": "stream",
     "text": [
      "6 15 10\n"
     ]
    }
   ],
   "source": [
    "#b\n",
    "_, __, ___ = 2, 3, 5 \n",
    "x, y, z = _*__, __*___, ___*_\n",
    "print(x, y, z)"
   ]
  },
  {
   "cell_type": "code",
   "execution_count": null,
   "metadata": {},
   "outputs": [],
   "source": [
    "#c\n",
    "x, y = 5, 0\n",
    "while x != y:\n",
    "   x, y = x - 1, y + 2\n",
    "print(x, y)\n",
    "\n",
    "# infinite loop"
   ]
  },
  {
   "cell_type": "code",
   "execution_count": 5,
   "metadata": {},
   "outputs": [
    {
     "name": "stdout",
     "output_type": "stream",
     "text": [
      "24\n"
     ]
    }
   ],
   "source": [
    "#d\n",
    "a, b = 72, 120\n",
    "while b != 0:\n",
    "\tt = b\n",
    "\tb = a % b\n",
    "\ta = t\n",
    "print(a)\n"
   ]
  },
  {
   "cell_type": "code",
   "execution_count": 6,
   "metadata": {},
   "outputs": [
    {
     "name": "stdout",
     "output_type": "stream",
     "text": [
      "0.625\n"
     ]
    }
   ],
   "source": [
    "#e\n",
    "score = 20\n",
    "while score > 1: \n",
    "   score /= 2\n",
    "print(score)"
   ]
  },
  {
   "cell_type": "code",
   "execution_count": 7,
   "metadata": {},
   "outputs": [
    {
     "name": "stdout",
     "output_type": "stream",
     "text": [
      "mayday\n"
     ]
    }
   ],
   "source": [
    "#f\n",
    "s = \"yadyam evol i\"\n",
    "print(s.split()[0][::-1])"
   ]
  },
  {
   "cell_type": "code",
   "execution_count": 8,
   "metadata": {},
   "outputs": [
    {
     "name": "stdout",
     "output_type": "stream",
     "text": [
      "3\n"
     ]
    }
   ],
   "source": [
    "#g\n",
    "n = 8\n",
    "a, b, i = 1, 1, 3\n",
    "while i:\n",
    "   a, b = b, a + b\n",
    "   i = i - 1\n",
    "print(a)"
   ]
  },
  {
   "attachments": {},
   "cell_type": "markdown",
   "metadata": {},
   "source": [
    "# 2"
   ]
  },
  {
   "cell_type": "code",
   "execution_count": 9,
   "metadata": {},
   "outputs": [
    {
     "name": "stdout",
     "output_type": "stream",
     "text": [
      "[2, 4]\n"
     ]
    }
   ],
   "source": [
    "#a\n",
    "my_list = [1, 2, 3, 4, 5]\n",
    "print(my_list[1::2])"
   ]
  },
  {
   "cell_type": "code",
   "execution_count": 10,
   "metadata": {},
   "outputs": [
    {
     "name": "stdout",
     "output_type": "stream",
     "text": [
      "5\n"
     ]
    }
   ],
   "source": [
    "#b\n",
    "my_list = [[1, 2], [3, [4, [5, 6]]]]\n",
    "print(my_list[-1][-1][-1][0])"
   ]
  },
  {
   "cell_type": "code",
   "execution_count": 12,
   "metadata": {},
   "outputs": [
    {
     "name": "stdout",
     "output_type": "stream",
     "text": [
      "[1, 2, 3, 4, 5, 6, 7, 8, 9]\n"
     ]
    }
   ],
   "source": [
    "#c\n",
    "nested_list = [[1, 2, 3], [4, 5, 6], [7, 8, 9]]\n",
    "flat_list = []\n",
    "for sublist in nested_list:\n",
    "    for item in sublist:\n",
    "        flat_list.append(item)\n",
    "print(flat_list)"
   ]
  },
  {
   "cell_type": "code",
   "execution_count": 13,
   "metadata": {},
   "outputs": [
    {
     "name": "stdout",
     "output_type": "stream",
     "text": [
      "[5, 9] [-1, -3]\n"
     ]
    }
   ],
   "source": [
    "# d\n",
    "numbers = [-1, 5, -3, 9, 0, -11, 4]\n",
    "positives, negatives = [], []\n",
    "for num in numbers:\n",
    "    if num > 0:\n",
    "        positives.append(num)\n",
    "    elif num < 0:\n",
    "        negatives.append(num)\n",
    "    else:\n",
    "        break\n",
    "print(positives, negatives)"
   ]
  },
  {
   "cell_type": "code",
   "execution_count": 14,
   "metadata": {},
   "outputs": [
    {
     "name": "stdout",
     "output_type": "stream",
     "text": [
      "6\n"
     ]
    }
   ],
   "source": [
    "#e\n",
    "values = [2, 0, 2, 3]\n",
    "for v in values:\n",
    "\tv = 2 * v\n",
    "print(v)"
   ]
  },
  {
   "cell_type": "code",
   "execution_count": 15,
   "metadata": {},
   "outputs": [
    {
     "ename": "IndexError",
     "evalue": "list index out of range",
     "output_type": "error",
     "traceback": [
      "\u001b[1;31m---------------------------------------------------------------------------\u001b[0m",
      "\u001b[1;31mIndexError\u001b[0m                                Traceback (most recent call last)",
      "\u001b[1;32m~\\AppData\\Local\\Temp/ipykernel_19372/2224259874.py\u001b[0m in \u001b[0;36m<module>\u001b[1;34m\u001b[0m\n\u001b[0;32m      2\u001b[0m \u001b[0ma\u001b[0m \u001b[1;33m=\u001b[0m \u001b[1;33m[\u001b[0m\u001b[1;36m1\u001b[0m\u001b[1;33m,\u001b[0m \u001b[1;36m2\u001b[0m\u001b[1;33m,\u001b[0m \u001b[1;36m3\u001b[0m\u001b[1;33m,\u001b[0m \u001b[1;36m4\u001b[0m\u001b[1;33m,\u001b[0m \u001b[1;36m5\u001b[0m\u001b[1;33m]\u001b[0m\u001b[1;33m\u001b[0m\u001b[1;33m\u001b[0m\u001b[0m\n\u001b[0;32m      3\u001b[0m \u001b[1;32mfor\u001b[0m \u001b[0mi\u001b[0m \u001b[1;32min\u001b[0m \u001b[0mrange\u001b[0m\u001b[1;33m(\u001b[0m\u001b[0mlen\u001b[0m\u001b[1;33m(\u001b[0m\u001b[0ma\u001b[0m\u001b[1;33m)\u001b[0m\u001b[1;33m,\u001b[0m \u001b[1;33m-\u001b[0m\u001b[1;36m1\u001b[0m\u001b[1;33m,\u001b[0m \u001b[1;33m-\u001b[0m\u001b[1;36m1\u001b[0m\u001b[1;33m)\u001b[0m\u001b[1;33m:\u001b[0m\u001b[1;33m\u001b[0m\u001b[1;33m\u001b[0m\u001b[0m\n\u001b[1;32m----> 4\u001b[1;33m     \u001b[0mprint\u001b[0m\u001b[1;33m(\u001b[0m\u001b[0ma\u001b[0m\u001b[1;33m[\u001b[0m\u001b[0mi\u001b[0m\u001b[1;33m]\u001b[0m\u001b[1;33m,\u001b[0m \u001b[0mend\u001b[0m\u001b[1;33m=\u001b[0m\u001b[1;34m\" \"\u001b[0m\u001b[1;33m)\u001b[0m\u001b[1;33m\u001b[0m\u001b[1;33m\u001b[0m\u001b[0m\n\u001b[0m",
      "\u001b[1;31mIndexError\u001b[0m: list index out of range"
     ]
    }
   ],
   "source": [
    "#f\n",
    "a = [1, 2, 3, 4, 5]\n",
    "for i in range(len(a), -1, -1):\n",
    "    print(a[i], end=\" \")"
   ]
  },
  {
   "cell_type": "code",
   "execution_count": 21,
   "metadata": {},
   "outputs": [
    {
     "ename": "SyntaxError",
     "evalue": "unmatched ']' (Temp/ipykernel_19372/2256919202.py, line 2)",
     "output_type": "error",
     "traceback": [
      "\u001b[1;36m  File \u001b[1;32m\"C:\\Users\\angel\\AppData\\Local\\Temp/ipykernel_19372/2256919202.py\"\u001b[1;36m, line \u001b[1;32m2\u001b[0m\n\u001b[1;33m    days = [['Tue','May',9], ['Thu','May',11], ['Fri','Jun',30]]]\u001b[0m\n\u001b[1;37m                                                                ^\u001b[0m\n\u001b[1;31mSyntaxError\u001b[0m\u001b[1;31m:\u001b[0m unmatched ']'\n"
     ]
    }
   ],
   "source": [
    "#g\n",
    "days = [['Tue','May',9], ['Thu','May',11], ['Fri','Jun',30]]]\n",
    "print(days[0][-1])\n"
   ]
  },
  {
   "cell_type": "code",
   "execution_count": 22,
   "metadata": {},
   "outputs": [
    {
     "name": "stdout",
     "output_type": "stream",
     "text": [
      "[1, 2, 3, 4, 5, 6, [7, 8, 9]]\n"
     ]
    }
   ],
   "source": [
    "# h\n",
    "l = [1, 2, 3]\n",
    "l.extend([4, 5, 6])\n",
    "l.append([7, 8, 9])\n",
    "print(l)"
   ]
  },
  {
   "cell_type": "code",
   "execution_count": 24,
   "metadata": {},
   "outputs": [
    {
     "name": "stdout",
     "output_type": "stream",
     "text": [
      "['n']\n",
      "['b', 'n']\n",
      "['a', 'b', 'n']\n",
      "['b']\n",
      "['a', 'b']\n",
      "['a']\n"
     ]
    }
   ],
   "source": [
    "#i\n",
    "l = ['n', 'b', 'a']\n",
    "for i in range(len(l)):\n",
    "   for j in range(i+1, len(l)+1):\n",
    "      print(sorted(l[i:j]))"
   ]
  },
  {
   "cell_type": "code",
   "execution_count": 25,
   "metadata": {},
   "outputs": [
    {
     "name": "stdout",
     "output_type": "stream",
     "text": [
      "[4, 5, 6, 7, 1, 2, 3]\n",
      "None\n"
     ]
    }
   ],
   "source": [
    "# j\n",
    "nums = [1, 2, 3, 4, 5, 6, 7]\n",
    "k = 4\n",
    "n = len(nums)\n",
    "k %= n\n",
    "nums[:] = nums[n-k:] + nums[:n-k]\n",
    "print(print(nums))"
   ]
  },
  {
   "cell_type": "code",
   "execution_count": 26,
   "metadata": {},
   "outputs": [
    {
     "name": "stdout",
     "output_type": "stream",
     "text": [
      "[1, 3, 5, 13, 15, 39]\n"
     ]
    }
   ],
   "source": [
    "# k\n",
    "a, b = 15, 39\n",
    "small = a if a > b else b\n",
    "cf, pf = [], 1\n",
    "while pf <= small:\n",
    "   if a % pf == 0 or b % pf == 0:\n",
    "      cf.append(pf)\n",
    "   pf += 1\n",
    "print(cf)"
   ]
  },
  {
   "cell_type": "code",
   "execution_count": 27,
   "metadata": {},
   "outputs": [
    {
     "name": "stdout",
     "output_type": "stream",
     "text": [
      "[[1, 3], [3, 5], [5, 7], [9, 11]]\n"
     ]
    }
   ],
   "source": [
    "# l\n",
    "nums = [1, 3, 5, 7, 4, 6, 8, 10, 9, 11]\n",
    "results = []\n",
    "for i in range(len(nums)-1):\n",
    "   if nums[i] % 2 == 0:\n",
    "      continue\n",
    "   if nums[i+1] % 2 != 0:\n",
    "      results.append([nums[i], nums[i+1]])\n",
    "print(results)"
   ]
  },
  {
   "attachments": {},
   "cell_type": "markdown",
   "metadata": {},
   "source": [
    "# 3"
   ]
  },
  {
   "cell_type": "code",
   "execution_count": 28,
   "metadata": {},
   "outputs": [
    {
     "name": "stdout",
     "output_type": "stream",
     "text": [
      "cccdddd\n"
     ]
    }
   ],
   "source": [
    "#a\n",
    "d = {'a': 1, 'b': 2, 'c': 3, 'd': 4}\n",
    "for key in d:\n",
    "    if d[key] > 2:\n",
    "        for i in range(d[key]):\n",
    "            print(key, end='')\n",
    "print()"
   ]
  },
  {
   "cell_type": "code",
   "execution_count": 29,
   "metadata": {},
   "outputs": [
    {
     "name": "stdout",
     "output_type": "stream",
     "text": [
      "{'a': 1, 'b': 2, 'c': 3}\n"
     ]
    }
   ],
   "source": [
    "#b \n",
    "keys = ['a', 'b', 'c']\n",
    "values = [1, 2, 3]\n",
    "d = dict(zip(keys, values))\n",
    "print(d)\n"
   ]
  },
  {
   "cell_type": "code",
   "execution_count": 30,
   "metadata": {},
   "outputs": [
    {
     "name": "stdout",
     "output_type": "stream",
     "text": [
      "{'a': 1, 'c': 3}\n"
     ]
    }
   ],
   "source": [
    "# c \n",
    "d = {'a': 1, 'b': 2, 'c': 3, 'd': 4}\n",
    "for key in list(d.keys()):\n",
    "    if d[key] % 2 == 0:\n",
    "        del d[key]\n",
    "print(d)"
   ]
  },
  {
   "cell_type": "code",
   "execution_count": 31,
   "metadata": {},
   "outputs": [
    {
     "name": "stdout",
     "output_type": "stream",
     "text": [
      "{'A': ['Joy', 'Fox'], 'B': ['Bob', 'Eva']}\n"
     ]
    }
   ],
   "source": [
    "# d \n",
    "stu = [(\"Joy\", \"A\"), (\"Bob\", \"B\"), (\"Eva\", \"B\"), (\"Fox\", \"A\")]\n",
    "grades = {\"A\": [], \"B\": []}\n",
    "for student in stu:\n",
    "    grades[student[1]].append(student[0])\n",
    "print(grades)"
   ]
  },
  {
   "cell_type": "code",
   "execution_count": 32,
   "metadata": {},
   "outputs": [
    {
     "ename": "TypeError",
     "evalue": "'tuple' object does not support item assignment",
     "output_type": "error",
     "traceback": [
      "\u001b[1;31m---------------------------------------------------------------------------\u001b[0m",
      "\u001b[1;31mTypeError\u001b[0m                                 Traceback (most recent call last)",
      "\u001b[1;32m~\\AppData\\Local\\Temp/ipykernel_19372/4020276248.py\u001b[0m in \u001b[0;36m<module>\u001b[1;34m\u001b[0m\n\u001b[0;32m      1\u001b[0m \u001b[1;31m# e\u001b[0m\u001b[1;33m\u001b[0m\u001b[1;33m\u001b[0m\u001b[0m\n\u001b[0;32m      2\u001b[0m \u001b[0mmy_tuple\u001b[0m \u001b[1;33m=\u001b[0m \u001b[1;33m(\u001b[0m\u001b[1;36m1\u001b[0m\u001b[1;33m,\u001b[0m \u001b[1;36m2\u001b[0m\u001b[1;33m,\u001b[0m \u001b[1;36m3\u001b[0m\u001b[1;33m)\u001b[0m\u001b[1;33m\u001b[0m\u001b[1;33m\u001b[0m\u001b[0m\n\u001b[1;32m----> 3\u001b[1;33m \u001b[0mmy_tuple\u001b[0m\u001b[1;33m[\u001b[0m\u001b[1;36m0\u001b[0m\u001b[1;33m]\u001b[0m \u001b[1;33m=\u001b[0m \u001b[1;36m0\u001b[0m\u001b[1;33m\u001b[0m\u001b[1;33m\u001b[0m\u001b[0m\n\u001b[0m\u001b[0;32m      4\u001b[0m \u001b[0mprint\u001b[0m\u001b[1;33m(\u001b[0m\u001b[0mmy_tuple\u001b[0m\u001b[1;33m)\u001b[0m\u001b[1;33m\u001b[0m\u001b[1;33m\u001b[0m\u001b[0m\n",
      "\u001b[1;31mTypeError\u001b[0m: 'tuple' object does not support item assignment"
     ]
    }
   ],
   "source": [
    "# e\n",
    "my_tuple = (1, 2, 3)\n",
    "my_tuple[0] = 0\n",
    "print(my_tuple)"
   ]
  },
  {
   "cell_type": "code",
   "execution_count": 33,
   "metadata": {},
   "outputs": [
    {
     "name": "stdout",
     "output_type": "stream",
     "text": [
      "{'name': 'Joy', 'age': 25, 'city': 'Paris', 'job': 'Art'}\n"
     ]
    }
   ],
   "source": [
    "# f \n",
    "dict_a = {\"name\": \"Tom\", \"age\": 30, \"city\": \"LA\"}\n",
    "dict_b = {\"name\": \"Joy\", \"age\": 25, \"city\": \"Paris\", \"job\": \"Art\"}\n",
    "dict_a.update(dict_b)\n",
    "print(dict_a)"
   ]
  },
  {
   "cell_type": "code",
   "execution_count": 34,
   "metadata": {},
   "outputs": [
    {
     "name": "stdout",
     "output_type": "stream",
     "text": [
      "{'A': {'X': 1, 'Y': 1}, 'B': {'X': 2, 'Y': 1}}\n"
     ]
    }
   ],
   "source": [
    "# g\n",
    "data = [(\"A\",\"X\"), (\"A\",\"Y\"), (\"B\",\"X\"), (\"B\",\"Y\"), (\"B\",\"X\")]\n",
    "crosstab = {}\n",
    "for item in data:\n",
    "    row, col = item\n",
    "    if row not in crosstab:\n",
    "        crosstab[row] = {}\n",
    "    if col not in crosstab[row]:\n",
    "        crosstab[row][col] = 0\n",
    "    crosstab[row][col] += 1\n",
    "print(crosstab)"
   ]
  },
  {
   "cell_type": "code",
   "execution_count": 35,
   "metadata": {},
   "outputs": [
    {
     "ename": "IndexError",
     "evalue": "list assignment index out of range",
     "output_type": "error",
     "traceback": [
      "\u001b[1;31m---------------------------------------------------------------------------\u001b[0m",
      "\u001b[1;31mIndexError\u001b[0m                                Traceback (most recent call last)",
      "\u001b[1;32m~\\AppData\\Local\\Temp/ipykernel_19372/1178806646.py\u001b[0m in \u001b[0;36m<module>\u001b[1;34m\u001b[0m\n\u001b[0;32m      3\u001b[0m \u001b[0mreversed_dict\u001b[0m \u001b[1;33m=\u001b[0m \u001b[1;33m[\u001b[0m\u001b[1;33m]\u001b[0m\u001b[1;33m\u001b[0m\u001b[1;33m\u001b[0m\u001b[0m\n\u001b[0;32m      4\u001b[0m \u001b[1;32mfor\u001b[0m \u001b[0mkey\u001b[0m\u001b[1;33m,\u001b[0m \u001b[0mvalue\u001b[0m \u001b[1;32min\u001b[0m \u001b[0md\u001b[0m\u001b[1;33m.\u001b[0m\u001b[0mitems\u001b[0m\u001b[1;33m(\u001b[0m\u001b[1;33m)\u001b[0m\u001b[1;33m:\u001b[0m\u001b[1;33m\u001b[0m\u001b[1;33m\u001b[0m\u001b[0m\n\u001b[1;32m----> 5\u001b[1;33m     \u001b[0mreversed_dict\u001b[0m\u001b[1;33m[\u001b[0m\u001b[0mvalue\u001b[0m\u001b[1;33m]\u001b[0m \u001b[1;33m=\u001b[0m \u001b[0mkey\u001b[0m\u001b[1;33m\u001b[0m\u001b[1;33m\u001b[0m\u001b[0m\n\u001b[0m\u001b[0;32m      6\u001b[0m \u001b[0mprint\u001b[0m\u001b[1;33m(\u001b[0m\u001b[0mreversed_dict\u001b[0m\u001b[1;33m)\u001b[0m\u001b[1;33m\u001b[0m\u001b[1;33m\u001b[0m\u001b[0m\n",
      "\u001b[1;31mIndexError\u001b[0m: list assignment index out of range"
     ]
    }
   ],
   "source": [
    "# h\n",
    "d = {\"a\": 1, \"b\": 2, \"c\": 3}\n",
    "reversed_dict = []\n",
    "for key, value in d.items():\n",
    "    reversed_dict[value] = key\n",
    "print(reversed_dict)"
   ]
  },
  {
   "cell_type": "code",
   "execution_count": 36,
   "metadata": {},
   "outputs": [
    {
     "name": "stdout",
     "output_type": "stream",
     "text": [
      "{'a': 0, 'b': 1, 'c': 2}\n"
     ]
    }
   ],
   "source": [
    "#ｉ\n",
    "original_dict = {'a': 1, 'b': 2, 'c': 3}\n",
    "new_dict = {}\n",
    "for i, key in enumerate(original_dict.keys()):\n",
    "    new_dict[key] = i\n",
    "print(new_dict)"
   ]
  },
  {
   "attachments": {},
   "cell_type": "markdown",
   "metadata": {},
   "source": [
    "# 4"
   ]
  },
  {
   "cell_type": "code",
   "execution_count": 42,
   "metadata": {},
   "outputs": [
    {
     "ename": "FileNotFoundError",
     "evalue": "[Errno 2] No such file or directory: 'test.txt'",
     "output_type": "error",
     "traceback": [
      "\u001b[1;31m---------------------------------------------------------------------------\u001b[0m",
      "\u001b[1;31mFileNotFoundError\u001b[0m                         Traceback (most recent call last)",
      "\u001b[1;32m~\\AppData\\Local\\Temp/ipykernel_19372/2596019022.py\u001b[0m in \u001b[0;36m<module>\u001b[1;34m\u001b[0m\n\u001b[0;32m      1\u001b[0m \u001b[1;31m# a\u001b[0m\u001b[1;33m\u001b[0m\u001b[1;33m\u001b[0m\u001b[0m\n\u001b[0;32m      2\u001b[0m \u001b[0mfile_name\u001b[0m \u001b[1;33m=\u001b[0m \u001b[1;34m\"test.txt\"\u001b[0m\u001b[1;33m\u001b[0m\u001b[1;33m\u001b[0m\u001b[0m\n\u001b[1;32m----> 3\u001b[1;33m \u001b[0mf\u001b[0m \u001b[1;33m=\u001b[0m \u001b[0mopen\u001b[0m\u001b[1;33m(\u001b[0m\u001b[0mfile_name\u001b[0m\u001b[1;33m,\u001b[0m \u001b[1;34m\"r\"\u001b[0m\u001b[1;33m)\u001b[0m\u001b[1;33m\u001b[0m\u001b[1;33m\u001b[0m\u001b[0m\n\u001b[0m\u001b[0;32m      4\u001b[0m \u001b[0mt1\u001b[0m \u001b[1;33m=\u001b[0m \u001b[0mf\u001b[0m\u001b[1;33m.\u001b[0m\u001b[0mreadlines\u001b[0m\u001b[1;33m(\u001b[0m\u001b[1;33m)\u001b[0m\u001b[1;33m\u001b[0m\u001b[1;33m\u001b[0m\u001b[0m\n\u001b[0;32m      5\u001b[0m \u001b[0mf\u001b[0m\u001b[1;33m.\u001b[0m\u001b[0mclose\u001b[0m\u001b[1;33m(\u001b[0m\u001b[1;33m)\u001b[0m\u001b[1;33m\u001b[0m\u001b[1;33m\u001b[0m\u001b[0m\n",
      "\u001b[1;31mFileNotFoundError\u001b[0m: [Errno 2] No such file or directory: 'test.txt'"
     ]
    }
   ],
   "source": [
    "# a\n",
    "file_name = \"test.txt\"\n",
    "f = open(file_name, \"r\")\n",
    "t1 = f.readlines()\n",
    "f.close()\n",
    "print(t1)"
   ]
  },
  {
   "cell_type": "code",
   "execution_count": 40,
   "metadata": {},
   "outputs": [
    {
     "name": "stdout",
     "output_type": "stream",
     "text": [
      "['Merry Christmas\\n', 'New Year\\n', 'Winter Vacation\\n']\n"
     ]
    }
   ],
   "source": [
    "# b\n",
    "file_name = \"go.txt\"\n",
    "f = open(file_name, \"r\")\n",
    "t1 = f.readlines()\n",
    "f.close()\n",
    "print(t1)"
   ]
  },
  {
   "cell_type": "code",
   "execution_count": 41,
   "metadata": {},
   "outputs": [
    {
     "name": "stdout",
     "output_type": "stream",
     "text": [
      "Merry Christmas\n",
      "New Year\n",
      "Winter Vacation\n",
      "\n",
      "Merry Christmas\n",
      "\n"
     ]
    }
   ],
   "source": [
    "# c\n",
    "file_name = \"go.txt\"\n",
    "f = open(file_name, \"r\")\n",
    "t1 = f.read()\n",
    "print(t1)\n",
    "f.seek(0)\n",
    "t2 = f.readline()\n",
    "f.close()\n",
    "print(t2)"
   ]
  },
  {
   "cell_type": "code",
   "execution_count": 43,
   "metadata": {},
   "outputs": [
    {
     "name": "stdout",
     "output_type": "stream",
     "text": [
      "['Merry Christmas', 'New Year', 'Winter Vacation']\n"
     ]
    }
   ],
   "source": [
    "# d\n",
    "mylist = []\n",
    "with open(\"go.txt\", \"r\") as f:\n",
    "\tfor line in f:\n",
    "\t\tmylist.append(line.strip())\n",
    "print(mylist)"
   ]
  },
  {
   "cell_type": "code",
   "execution_count": 44,
   "metadata": {},
   "outputs": [
    {
     "name": "stdout",
     "output_type": "stream",
     "text": [
      "Hello, World!\n"
     ]
    }
   ],
   "source": [
    "# e\n",
    "with open(\"test_file.txt\", \"w\") as file:\n",
    "    file.write(\"Hello, World!\")\n",
    "with open(\"test_file.txt\", \"r\") as file:\n",
    "    print(file.read())"
   ]
  },
  {
   "cell_type": "code",
   "execution_count": 45,
   "metadata": {},
   "outputs": [
    {
     "name": "stdout",
     "output_type": "stream",
     "text": [
      "Variable is not defined\n"
     ]
    }
   ],
   "source": [
    "# f\n",
    "x, y, z = 5, 2, 0\n",
    "try:\n",
    "\tresult1 = x / y\n",
    "\tresult2 = x / w\n",
    "\tresult3 = x / z\n",
    "except ZeroDivisionError:\n",
    "\tprint(\"Divided by zero\")\n",
    "except NameError:\n",
    "\tprint(\"Variable is not defined\")\n",
    "except:\n",
    "\tprint(\"Other errors\")"
   ]
  },
  {
   "cell_type": "code",
   "execution_count": 46,
   "metadata": {},
   "outputs": [
    {
     "name": "stdout",
     "output_type": "stream",
     "text": [
      "Divided by zero\n",
      "Finish exception handling\n"
     ]
    }
   ],
   "source": [
    "# g\n",
    "x, y, z = 5, 2, 0\n",
    "try:\n",
    "\tresult1 = x / y\n",
    "\tresult3 = x / z\n",
    "\tresult2 = x / w\n",
    "except NameError:\n",
    "\tprint(\"Variable is not defined\")\n",
    "except ZeroDivisionError:\n",
    "\tprint(\"Divided by zero\")\n",
    "finally:\n",
    "\tprint(\"Finish exception handling\")"
   ]
  },
  {
   "cell_type": "code",
   "execution_count": 47,
   "metadata": {},
   "outputs": [
    {
     "name": "stdout",
     "output_type": "stream",
     "text": [
      "An error occurred\n"
     ]
    }
   ],
   "source": [
    "# h\n",
    "def f():\n",
    "    g()\n",
    "def g():\n",
    "    raise Exception(\"An error occurred\")\n",
    "try:\n",
    "    f()\n",
    "except Exception as e:\n",
    "    print(e)"
   ]
  },
  {
   "attachments": {},
   "cell_type": "markdown",
   "metadata": {},
   "source": [
    "# 5"
   ]
  },
  {
   "cell_type": "code",
   "execution_count": 51,
   "metadata": {},
   "outputs": [
    {
     "name": "stdout",
     "output_type": "stream",
     "text": [
      "nohtyP\n"
     ]
    }
   ],
   "source": [
    "# a\n",
    "def reverse_string(s):\n",
    "    if s == \"\":\n",
    "        return s\n",
    "    else:\n",
    "        return reverse_string(s[1:]) + s[0]\n",
    "print(reverse_string(\"Python\")) "
   ]
  },
  {
   "cell_type": "code",
   "execution_count": 52,
   "metadata": {},
   "outputs": [
    {
     "name": "stdout",
     "output_type": "stream",
     "text": [
      "0.125\n"
     ]
    }
   ],
   "source": [
    "# b\n",
    "def power(base, exp):\n",
    "    if exp == 0:\n",
    "        return 1\n",
    "    elif exp > 0:\n",
    "        return base * power(base, exp - 1)\n",
    "    else:\n",
    "        return 1 / power(base, -exp)\n",
    "print(power(2, -3))\n"
   ]
  },
  {
   "cell_type": "code",
   "execution_count": 59,
   "metadata": {},
   "outputs": [
    {
     "ename": "SyntaxError",
     "evalue": "non-default argument follows default argument (Temp/ipykernel_19372/3017105551.py, line 2)",
     "output_type": "error",
     "traceback": [
      "\u001b[1;36m  File \u001b[1;32m\"C:\\Users\\angel\\AppData\\Local\\Temp/ipykernel_19372/3017105551.py\"\u001b[1;36m, line \u001b[1;32m2\u001b[0m\n\u001b[1;33m    def foo(a, b=2, c):\u001b[0m\n\u001b[1;37m                     ^\u001b[0m\n\u001b[1;31mSyntaxError\u001b[0m\u001b[1;31m:\u001b[0m non-default argument follows default argument\n"
     ]
    }
   ],
   "source": [
    "# c\n",
    "def foo(a, b=2, c):\n",
    "    return a + b + c\n",
    "print(foo(1, 3))\n",
    "\n",
    "# 表示argument沒有給定預設值的要放在前面"
   ]
  },
  {
   "cell_type": "code",
   "execution_count": 54,
   "metadata": {},
   "outputs": [
    {
     "name": "stdout",
     "output_type": "stream",
     "text": [
      "10\n"
     ]
    }
   ],
   "source": [
    "# d \n",
    "def higher_order(func, *args):\n",
    "    return func(*args)\n",
    "print(higher_order(lambda x, y: x*y, 5, 2))\n"
   ]
  },
  {
   "cell_type": "code",
   "execution_count": 60,
   "metadata": {},
   "outputs": [
    {
     "name": "stdout",
     "output_type": "stream",
     "text": [
      "[1, 2, 27, 4, 125]\n"
     ]
    }
   ],
   "source": [
    "# e\n",
    "numbers = [1, 2, 3, 4, 5]\n",
    "print(list(map(lambda x: x if x%2==0 else x**3, numbers)))\n"
   ]
  },
  {
   "cell_type": "code",
   "execution_count": 63,
   "metadata": {},
   "outputs": [
    {
     "name": "stdout",
     "output_type": "stream",
     "text": [
      "['banana', 'cherry']\n"
     ]
    }
   ],
   "source": [
    "# f\n",
    "strings = [\"apple\", \"banana\", \"cherry\", \"date\"]\n",
    "print(list(filter(lambda x: len(x) > 5, strings)))\n"
   ]
  },
  {
   "cell_type": "code",
   "execution_count": 64,
   "metadata": {},
   "outputs": [
    {
     "name": "stdout",
     "output_type": "stream",
     "text": [
      "[0, 1]\n"
     ]
    }
   ],
   "source": [
    "# g\n",
    "def add_element(some_list):\n",
    "    some_list.append(1)\n",
    "my_list = [0]\n",
    "add_element(my_list)\n",
    "print(my_list)"
   ]
  },
  {
   "cell_type": "code",
   "execution_count": 65,
   "metadata": {},
   "outputs": [
    {
     "name": "stdout",
     "output_type": "stream",
     "text": [
      "0\n"
     ]
    }
   ],
   "source": [
    "# h\n",
    "def change_value(x):\n",
    "    x = x + 1\n",
    "num = 0\n",
    "change_value(num)\n",
    "print(num)\n"
   ]
  },
  {
   "cell_type": "code",
   "execution_count": 66,
   "metadata": {},
   "outputs": [
    {
     "name": "stdout",
     "output_type": "stream",
     "text": [
      "4\n",
      "8\n"
     ]
    }
   ],
   "source": [
    "# i\n",
    "def power(base, exponent=2):\n",
    "    return base ** exponent\n",
    "print(power(2))\n",
    "print(power(2, 3))\n"
   ]
  },
  {
   "cell_type": "code",
   "execution_count": 67,
   "metadata": {},
   "outputs": [
    {
     "name": "stdout",
     "output_type": "stream",
     "text": [
      "[1]\n",
      "[1, 2]\n",
      "[1, 2, 3]\n"
     ]
    }
   ],
   "source": [
    "# j\n",
    "def add_to(num, target=[]):\n",
    "    target.append(num)\n",
    "    return target\n",
    "print(add_to(1))\n",
    "print(add_to(2))\n",
    "print(add_to(3))\n"
   ]
  },
  {
   "cell_type": "code",
   "execution_count": 68,
   "metadata": {},
   "outputs": [
    {
     "name": "stdout",
     "output_type": "stream",
     "text": [
      "5 8\n"
     ]
    }
   ],
   "source": [
    "# k\n",
    "def apple():\n",
    "\tglobal x\n",
    "\tx = x + 1\n",
    "def orange():\n",
    "\treturn x + 1\n",
    "def banana():\n",
    "\tx = 7\n",
    "\treturn x + 1\n",
    "x = 3\n",
    "apple()\n",
    "print(orange(), banana())\n"
   ]
  },
  {
   "cell_type": "code",
   "execution_count": 69,
   "metadata": {},
   "outputs": [
    {
     "name": "stdout",
     "output_type": "stream",
     "text": [
      "3\n",
      "3\n",
      "3\n",
      "3\n",
      "7\n"
     ]
    }
   ],
   "source": [
    "# l\n",
    "x = 5\n",
    "def apple():\n",
    "\tprint(x)\n",
    "x = 3\n",
    "def orange(x):\n",
    "\tprint(x)\n",
    "def banana():\n",
    "\tx = 7\n",
    "\tprint(x)\n",
    "print(x)\n",
    "apple()\n",
    "orange(x)\n",
    "print(x)\n",
    "banana()"
   ]
  },
  {
   "cell_type": "code",
   "execution_count": 70,
   "metadata": {},
   "outputs": [
    {
     "name": "stdout",
     "output_type": "stream",
     "text": [
      "{'b': (1, 2), 'a': (2, 1)}\n"
     ]
    }
   ],
   "source": [
    "# m\n",
    "my_dict = {'a': (2, 1), 'b': (1, 2)}\n",
    "sorted_dict = dict(sorted(my_dict.items(), key=lambda i: i[1]))\n",
    "print(sorted_dict)"
   ]
  },
  {
   "cell_type": "code",
   "execution_count": 71,
   "metadata": {},
   "outputs": [
    {
     "name": "stdout",
     "output_type": "stream",
     "text": [
      "3\n"
     ]
    }
   ],
   "source": [
    "# n\n",
    "def binary_search(arr, low, high, x):\n",
    "    if high >= low:\n",
    "        mid = (high + low) // 2\n",
    "        if arr[mid] == x:\n",
    "            return mid\n",
    "        elif arr[mid] > x:\n",
    "            return binary_search(arr, low, mid - 1, x)\n",
    "        else:\n",
    "            return binary_search(arr, mid + 1, high, x)\n",
    "    else:\n",
    "        return -1\n",
    "result = binary_search([2, 3, 4, 10, 40], 0, 4, 10)\n",
    "print(result)"
   ]
  },
  {
   "cell_type": "code",
   "execution_count": null,
   "metadata": {},
   "outputs": [],
   "source": []
  }
 ],
 "metadata": {
  "kernelspec": {
   "display_name": "python39",
   "language": "python",
   "name": "python3"
  },
  "language_info": {
   "codemirror_mode": {
    "name": "ipython",
    "version": 3
   },
   "file_extension": ".py",
   "mimetype": "text/x-python",
   "name": "python",
   "nbconvert_exporter": "python",
   "pygments_lexer": "ipython3",
   "version": "3.9.7"
  },
  "orig_nbformat": 4
 },
 "nbformat": 4,
 "nbformat_minor": 2
}
