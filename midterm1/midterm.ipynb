{
 "cells": [
  {
   "cell_type": "markdown",
   "metadata": {},
   "source": [
    "## 1"
   ]
  },
  {
   "cell_type": "code",
   "execution_count": 12,
   "metadata": {},
   "outputs": [
    {
     "name": "stdout",
     "output_type": "stream",
     "text": [
      "1.8 vs. 1 vs. 4\n"
     ]
    }
   ],
   "source": [
    "# a\n",
    "print(9/5, 'vs.', 9//5, 'vs.', 9%5)"
   ]
  },
  {
   "cell_type": "code",
   "execution_count": 3,
   "metadata": {},
   "outputs": [
    {
     "name": "stdout",
     "output_type": "stream",
     "text": [
      "10.0\n",
      "<class 'float'>\n"
     ]
    }
   ],
   "source": [
    "# b\n",
    "print(4 * 12 / 2 ** 2 - 2)\n",
    "print(type(4 * 12 / 2 ** 2 - 2))\n",
    "# 數值經過\"/\"後，資料型態會轉變為浮點數。"
   ]
  },
  {
   "cell_type": "code",
   "execution_count": 4,
   "metadata": {},
   "outputs": [
    {
     "ename": "NameError",
     "evalue": "name 'mx' is not defined",
     "output_type": "error",
     "traceback": [
      "\u001b[0;31m---------------------------------------------------------------------------\u001b[0m",
      "\u001b[0;31mNameError\u001b[0m                                 Traceback (most recent call last)",
      "\u001b[1;32m/home/re6114056/midterm_handwrite_littlemlilk.ipynb Cell 4\u001b[0m in \u001b[0;36m3\n\u001b[1;32m      <a href='vscode-notebook-cell://ssh-remote%2B140.116.52.214/home/re6114056/midterm_handwrite_littlemlilk.ipynb#W3sdnNjb2RlLXJlbW90ZQ%3D%3D?line=0'>1</a>\u001b[0m \u001b[39m# c\u001b[39;00m\n\u001b[1;32m      <a href='vscode-notebook-cell://ssh-remote%2B140.116.52.214/home/re6114056/midterm_handwrite_littlemlilk.ipynb#W3sdnNjb2RlLXJlbW90ZQ%3D%3D?line=1'>2</a>\u001b[0m m, x, b \u001b[39m=\u001b[39m \u001b[39m2\u001b[39m, \u001b[39m3\u001b[39m, \u001b[39m5\u001b[39m\n\u001b[0;32m----> <a href='vscode-notebook-cell://ssh-remote%2B140.116.52.214/home/re6114056/midterm_handwrite_littlemlilk.ipynb#W3sdnNjb2RlLXJlbW90ZQ%3D%3D?line=2'>3</a>\u001b[0m y \u001b[39m=\u001b[39m mx \u001b[39m+\u001b[39m b\n\u001b[1;32m      <a href='vscode-notebook-cell://ssh-remote%2B140.116.52.214/home/re6114056/midterm_handwrite_littlemlilk.ipynb#W3sdnNjb2RlLXJlbW90ZQ%3D%3D?line=3'>4</a>\u001b[0m \u001b[39mprint\u001b[39m(y)\n",
      "\u001b[0;31mNameError\u001b[0m: name 'mx' is not defined"
     ]
    }
   ],
   "source": [
    "# c\n",
    "m, x, b = 2, 3, 5\n",
    "y = mx + b\n",
    "print(y)\n",
    "# NameError : name \"mx\" is not defined\n",
    "# 若是更正為 y = m*x + b，也是正確"
   ]
  },
  {
   "cell_type": "code",
   "execution_count": 44,
   "metadata": {},
   "outputs": [
    {
     "ename": "SyntaxError",
     "evalue": "invalid syntax (1521456268.py, line 4)",
     "output_type": "error",
     "traceback": [
      "\u001b[0;36m  Cell \u001b[0;32mIn [44], line 4\u001b[0;36m\u001b[0m\n\u001b[0;31m    1storder = 1.0/cofactor\u001b[0m\n\u001b[0m     ^\u001b[0m\n\u001b[0;31mSyntaxError\u001b[0m\u001b[0;31m:\u001b[0m invalid syntax\n"
     ]
    }
   ],
   "source": [
    "# d\n",
    "alpha, x = 0.5, 10\n",
    "cofactor = alpha * x * x\n",
    "1storder = 1.0/cofactor\n",
    "# 1storder SyntaxError\n",
    "print('invalid, 變數名稱不能數字開頭')"
   ]
  },
  {
   "cell_type": "code",
   "execution_count": 14,
   "metadata": {},
   "outputs": [
    {
     "name": "stdout",
     "output_type": "stream",
     "text": [
      "3 5\n"
     ]
    }
   ],
   "source": [
    "# e\n",
    "a, b = 3, 5\n",
    "a, b = b, a\n",
    "b, a = a, b\n",
    "print(a, b)\n",
    "# print後不會有\"逗號\"、\"( )\"，預設兩個字元間會有空格。"
   ]
  },
  {
   "cell_type": "code",
   "execution_count": 15,
   "metadata": {},
   "outputs": [
    {
     "name": "stdout",
     "output_type": "stream",
     "text": [
      "3\n"
     ]
    }
   ],
   "source": [
    "# f\n",
    "s = \"3.14\"\n",
    "print(int(float(s)))\n",
    "# 字串先轉浮點數再轉整數可以，先轉整數再轉浮點數不行"
   ]
  },
  {
   "cell_type": "code",
   "execution_count": 5,
   "metadata": {},
   "outputs": [
    {
     "ename": "IndexError",
     "evalue": "string index out of range",
     "output_type": "error",
     "traceback": [
      "\u001b[0;31m---------------------------------------------------------------------------\u001b[0m",
      "\u001b[0;31mIndexError\u001b[0m                                Traceback (most recent call last)",
      "\u001b[1;32m/home/re6114056/midterm_handwrite_littlemlilk.ipynb Cell 8\u001b[0m in \u001b[0;36m3\n\u001b[1;32m      <a href='vscode-notebook-cell://ssh-remote%2B140.116.52.214/home/re6114056/midterm_handwrite_littlemlilk.ipynb#X10sdnNjb2RlLXJlbW90ZQ%3D%3D?line=0'>1</a>\u001b[0m \u001b[39m# g\u001b[39;00m\n\u001b[1;32m      <a href='vscode-notebook-cell://ssh-remote%2B140.116.52.214/home/re6114056/midterm_handwrite_littlemlilk.ipynb#X10sdnNjb2RlLXJlbW90ZQ%3D%3D?line=1'>2</a>\u001b[0m word \u001b[39m=\u001b[39m \u001b[39m\"\u001b[39m\u001b[39mCode!\u001b[39m\u001b[39m\"\u001b[39m\n\u001b[0;32m----> <a href='vscode-notebook-cell://ssh-remote%2B140.116.52.214/home/re6114056/midterm_handwrite_littlemlilk.ipynb#X10sdnNjb2RlLXJlbW90ZQ%3D%3D?line=2'>3</a>\u001b[0m \u001b[39mprint\u001b[39m(word[:\u001b[39m-\u001b[39m\u001b[39m1\u001b[39m] \u001b[39m+\u001b[39m word[\u001b[39m5\u001b[39m])\n\u001b[1;32m      <a href='vscode-notebook-cell://ssh-remote%2B140.116.52.214/home/re6114056/midterm_handwrite_littlemlilk.ipynb#X10sdnNjb2RlLXJlbW90ZQ%3D%3D?line=3'>4</a>\u001b[0m \u001b[39mprint\u001b[39m(\u001b[39m'\u001b[39m\u001b[39minvalid, index out of range\u001b[39m\u001b[39m'\u001b[39m)\n",
      "\u001b[0;31mIndexError\u001b[0m: string index out of range"
     ]
    }
   ],
   "source": [
    "# g\n",
    "word = \"Code!\"\n",
    "print(word[:-1] + word[5])\n",
    "print('invalid, index out of range')\n",
    "\n",
    "# 若是更正為 word[:-1] + word[4]也正確"
   ]
  },
  {
   "cell_type": "code",
   "execution_count": 1,
   "metadata": {},
   "outputs": [
    {
     "ename": "TypeError",
     "evalue": "'str' object does not support item assignment",
     "output_type": "error",
     "traceback": [
      "\u001b[0;31m---------------------------------------------------------------------------\u001b[0m",
      "\u001b[0;31mTypeError\u001b[0m                                 Traceback (most recent call last)",
      "\u001b[1;32m/home/re6114056/midterm_handwrite_littlemlilk.ipynb Cell 9\u001b[0m in \u001b[0;36m3\n\u001b[1;32m      <a href='vscode-notebook-cell://ssh-remote%2B140.116.52.214/home/re6114056/midterm_handwrite_littlemlilk.ipynb#X11sdnNjb2RlLXJlbW90ZQ%3D%3D?line=0'>1</a>\u001b[0m \u001b[39m# h\u001b[39;00m\n\u001b[1;32m      <a href='vscode-notebook-cell://ssh-remote%2B140.116.52.214/home/re6114056/midterm_handwrite_littlemlilk.ipynb#X11sdnNjb2RlLXJlbW90ZQ%3D%3D?line=1'>2</a>\u001b[0m s \u001b[39m=\u001b[39m \u001b[39m'\u001b[39m\u001b[39mcat\u001b[39m\u001b[39m'\u001b[39m\n\u001b[0;32m----> <a href='vscode-notebook-cell://ssh-remote%2B140.116.52.214/home/re6114056/midterm_handwrite_littlemlilk.ipynb#X11sdnNjb2RlLXJlbW90ZQ%3D%3D?line=2'>3</a>\u001b[0m s[\u001b[39m0\u001b[39m] \u001b[39m=\u001b[39m \u001b[39m'\u001b[39m\u001b[39mh\u001b[39m\u001b[39m'\u001b[39m\n\u001b[1;32m      <a href='vscode-notebook-cell://ssh-remote%2B140.116.52.214/home/re6114056/midterm_handwrite_littlemlilk.ipynb#X11sdnNjb2RlLXJlbW90ZQ%3D%3D?line=3'>4</a>\u001b[0m \u001b[39mprint\u001b[39m(s)\n\u001b[1;32m      <a href='vscode-notebook-cell://ssh-remote%2B140.116.52.214/home/re6114056/midterm_handwrite_littlemlilk.ipynb#X11sdnNjb2RlLXJlbW90ZQ%3D%3D?line=4'>5</a>\u001b[0m \u001b[39mprint\u001b[39m(\u001b[39m'\u001b[39m\u001b[39minvalid, str not support item assignment\u001b[39m\u001b[39m'\u001b[39m)\n",
      "\u001b[0;31mTypeError\u001b[0m: 'str' object does not support item assignment"
     ]
    }
   ],
   "source": [
    "# h\n",
    "s = 'cat'\n",
    "s[0] = 'h'\n",
    "print(s)\n",
    "print('invalid, str not support item assignment')\n",
    "# 字串不可使用slicing的方式修改\n",
    "# 可使用s = s.replace('c','h')"
   ]
  },
  {
   "cell_type": "code",
   "execution_count": 2,
   "metadata": {},
   "outputs": [
    {
     "name": "stdout",
     "output_type": "stream",
     "text": [
      "Time left 09:30.19\n"
     ]
    }
   ],
   "source": [
    "# i\n",
    "print('Time left %02d:%05.2f' % (9, 30.19283))\n",
    "\n",
    "# \" . \"佔一個位元符"
   ]
  },
  {
   "cell_type": "code",
   "execution_count": 3,
   "metadata": {},
   "outputs": [
    {
     "ename": "TypeError",
     "evalue": "can only concatenate str (not \"int\") to str",
     "output_type": "error",
     "traceback": [
      "\u001b[0;31m---------------------------------------------------------------------------\u001b[0m",
      "\u001b[0;31mTypeError\u001b[0m                                 Traceback (most recent call last)",
      "\u001b[1;32m/home/re6114056/midterm_handwrite_littlemlilk.ipynb Cell 11\u001b[0m in \u001b[0;36m3\n\u001b[1;32m      <a href='vscode-notebook-cell://ssh-remote%2B140.116.52.214/home/re6114056/midterm_handwrite_littlemlilk.ipynb#X14sdnNjb2RlLXJlbW90ZQ%3D%3D?line=0'>1</a>\u001b[0m \u001b[39m# j\u001b[39;00m\n\u001b[1;32m      <a href='vscode-notebook-cell://ssh-remote%2B140.116.52.214/home/re6114056/midterm_handwrite_littlemlilk.ipynb#X14sdnNjb2RlLXJlbW90ZQ%3D%3D?line=1'>2</a>\u001b[0m s1, s2 \u001b[39m=\u001b[39m \u001b[39m\"\u001b[39m\u001b[39mok\u001b[39m\u001b[39m\"\u001b[39m, \u001b[39m\"\u001b[39m\u001b[39mgo\u001b[39m\u001b[39m\"\u001b[39m\n\u001b[0;32m----> <a href='vscode-notebook-cell://ssh-remote%2B140.116.52.214/home/re6114056/midterm_handwrite_littlemlilk.ipynb#X14sdnNjb2RlLXJlbW90ZQ%3D%3D?line=2'>3</a>\u001b[0m \u001b[39mprint\u001b[39m(\u001b[39m3\u001b[39m\u001b[39m*\u001b[39ms1 \u001b[39m+\u001b[39m s2 \u001b[39m+\u001b[39m \u001b[39m3\u001b[39m)\n\u001b[1;32m      <a href='vscode-notebook-cell://ssh-remote%2B140.116.52.214/home/re6114056/midterm_handwrite_littlemlilk.ipynb#X14sdnNjb2RlLXJlbW90ZQ%3D%3D?line=3'>4</a>\u001b[0m \u001b[39mprint\u001b[39m(\u001b[39m'\u001b[39m\u001b[39minvalid, 字串 int 不能相加\u001b[39m\u001b[39m'\u001b[39m)\n",
      "\u001b[0;31mTypeError\u001b[0m: can only concatenate str (not \"int\") to str"
     ]
    }
   ],
   "source": [
    "# j\n",
    "s1, s2 = \"ok\", \"go\"\n",
    "print(3*s1 + s2 + 3)\n",
    "print('invalid, 字串 int 不能相加')"
   ]
  },
  {
   "cell_type": "code",
   "execution_count": 24,
   "metadata": {},
   "outputs": [
    {
     "name": "stdout",
     "output_type": "stream",
     "text": [
      "okg\n"
     ]
    }
   ],
   "source": [
    "# k\n",
    "s = \"okokgo\"\n",
    "print(s[2:5])\n",
    "\n",
    "# 取index 2-4"
   ]
  },
  {
   "cell_type": "code",
   "execution_count": 25,
   "metadata": {},
   "outputs": [
    {
     "name": "stdout",
     "output_type": "stream",
     "text": [
      "ogkoko\n"
     ]
    }
   ],
   "source": [
    "# l\n",
    "s = 'okokgo'\n",
    "print(s[::-1])\n",
    "\n",
    "# 由最後一個開始往前取"
   ]
  },
  {
   "cell_type": "markdown",
   "metadata": {},
   "source": [
    "## 2"
   ]
  },
  {
   "cell_type": "code",
   "execution_count": 26,
   "metadata": {},
   "outputs": [
    {
     "name": "stdout",
     "output_type": "stream",
     "text": [
      "True\n"
     ]
    }
   ],
   "source": [
    "# a\n",
    "happy, money = True, 0\n",
    "print(not happy or not money)\n",
    "\n",
    "# 0 代表False, 其餘數值代表 True\n",
    "# not happy -> False\n",
    "# not money -> True\n",
    "# False or True -> True"
   ]
  },
  {
   "cell_type": "code",
   "execution_count": 4,
   "metadata": {},
   "outputs": [
    {
     "ename": "TypeError",
     "evalue": "unsupported operand type(s) for +: 'int' and 'str'",
     "output_type": "error",
     "traceback": [
      "\u001b[0;31m---------------------------------------------------------------------------\u001b[0m",
      "\u001b[0;31mTypeError\u001b[0m                                 Traceback (most recent call last)",
      "\u001b[1;32m/home/re6114056/midterm_handwrite_littlemlilk.ipynb Cell 16\u001b[0m in \u001b[0;36m2\n\u001b[1;32m      <a href='vscode-notebook-cell://ssh-remote%2B140.116.52.214/home/re6114056/midterm_handwrite_littlemlilk.ipynb#X22sdnNjb2RlLXJlbW90ZQ%3D%3D?line=0'>1</a>\u001b[0m \u001b[39m# b\u001b[39;00m\n\u001b[0;32m----> <a href='vscode-notebook-cell://ssh-remote%2B140.116.52.214/home/re6114056/midterm_handwrite_littlemlilk.ipynb#X22sdnNjb2RlLXJlbW90ZQ%3D%3D?line=1'>2</a>\u001b[0m \u001b[39mprint\u001b[39m((\u001b[39m3\u001b[39m \u001b[39m+\u001b[39m \u001b[39m'\u001b[39m\u001b[39m3\u001b[39m\u001b[39m'\u001b[39m) \u001b[39m==\u001b[39m \u001b[39m6\u001b[39m \u001b[39mand\u001b[39;00m \u001b[39mTrue\u001b[39;00m)\n\u001b[1;32m      <a href='vscode-notebook-cell://ssh-remote%2B140.116.52.214/home/re6114056/midterm_handwrite_littlemlilk.ipynb#X22sdnNjb2RlLXJlbW90ZQ%3D%3D?line=2'>3</a>\u001b[0m \u001b[39mprint\u001b[39m(\u001b[39m'\u001b[39m\u001b[39minvalid, 字串 int 不能相加\u001b[39m\u001b[39m'\u001b[39m)\n",
      "\u001b[0;31mTypeError\u001b[0m: unsupported operand type(s) for +: 'int' and 'str'"
     ]
    }
   ],
   "source": [
    "# b\n",
    "print((3 + '3') == 6 and True)\n",
    "print('invalid, 字串 int 不能相加')"
   ]
  },
  {
   "cell_type": "code",
   "execution_count": 38,
   "metadata": {},
   "outputs": [
    {
     "name": "stdout",
     "output_type": "stream",
     "text": [
      "12\n"
     ]
    }
   ],
   "source": [
    "# c\n",
    "print(1 + (4 and 6) + (5 or 0) + (0 and 8))\n",
    "# 1 + 6 + 5 + 0"
   ]
  },
  {
   "cell_type": "code",
   "execution_count": 14,
   "metadata": {},
   "outputs": [
    {
     "name": "stdout",
     "output_type": "stream",
     "text": [
      "score: 9.000000\n",
      "score: 3.500000\n",
      "score: 0.750000\n",
      "0.75\n"
     ]
    }
   ],
   "source": [
    "# d\n",
    "score = 20\n",
    "while score > 1:\n",
    "    score = score / 2 -1\n",
    "    print('score: %f'%(score))\n",
    "print(score)"
   ]
  },
  {
   "cell_type": "code",
   "execution_count": 41,
   "metadata": {},
   "outputs": [
    {
     "name": "stdout",
     "output_type": "stream",
     "text": [
      "invalid, never end loop\n"
     ]
    }
   ],
   "source": [
    "# e\n",
    "x = 5\n",
    "y = 5\n",
    "while x <= y and y <= x:\n",
    "    x = x + 1\n",
    "    y = y + 1\n",
    "print(\"Done\")\n",
    "print('invalid, Infinite loop')\n",
    "# x 會永遠等於 y"
   ]
  },
  {
   "cell_type": "code",
   "execution_count": 13,
   "metadata": {},
   "outputs": [
    {
     "name": "stdout",
     "output_type": "stream",
     "text": [
      "iteration:1 1 1\n",
      "iteration:2 1 2\n",
      "iteration:3 2 3\n",
      "iteration:4 3 5\n",
      "5\n"
     ]
    }
   ],
   "source": [
    "# f\n",
    "n = 5\n",
    "a, b, i = 1, 1, 1\n",
    "while i < 5:\n",
    "    print(\"iteration:%d\" %(i),a, b)\n",
    "    a, b = b, a + b\n",
    "    i += 1\n",
    "print(a)"
   ]
  },
  {
   "cell_type": "code",
   "execution_count": 10,
   "metadata": {},
   "outputs": [
    {
     "name": "stdout",
     "output_type": "stream",
     "text": [
      "48 36\n",
      "36 12\n",
      "12 0\n",
      "12\n"
     ]
    }
   ],
   "source": [
    "# g\n",
    "a, b = 84, 48\n",
    "while b:\n",
    "    a, b = b, a % b\n",
    "    print(a, b)\n",
    "print(a)\n",
    "\n"
   ]
  },
  {
   "cell_type": "code",
   "execution_count": 44,
   "metadata": {},
   "outputs": [
    {
     "name": "stdout",
     "output_type": "stream",
     "text": [
      "12, 6, 3, 10, 5, 16, 8, 4, 2, 1.\n"
     ]
    }
   ],
   "source": [
    "# h\n",
    "n = 12\n",
    "while n != 1:\n",
    "    print(n, end=', ')\n",
    "    if n % 2 == 0:\n",
    "        n = n // 2\n",
    "    else:\n",
    "        n = n * 3 + 1\n",
    "print(n, end='.\\n')\n",
    "\n",
    "# 前面皆正確僅1.位置錯誤扣1分"
   ]
  },
  {
   "cell_type": "markdown",
   "metadata": {},
   "source": [
    "## 3"
   ]
  },
  {
   "cell_type": "code",
   "execution_count": 5,
   "metadata": {},
   "outputs": [
    {
     "ename": "TypeError",
     "evalue": "'str' object does not support item assignment",
     "output_type": "error",
     "traceback": [
      "\u001b[0;31m---------------------------------------------------------------------------\u001b[0m",
      "\u001b[0;31mTypeError\u001b[0m                                 Traceback (most recent call last)",
      "\u001b[1;32m/home/re6114056/midterm_handwrite_littlemlilk.ipynb Cell 24\u001b[0m in \u001b[0;36m5\n\u001b[1;32m      <a href='vscode-notebook-cell://ssh-remote%2B140.116.52.214/home/re6114056/midterm_handwrite_littlemlilk.ipynb#X33sdnNjb2RlLXJlbW90ZQ%3D%3D?line=2'>3</a>\u001b[0m d2 \u001b[39m=\u001b[39m \u001b[39m\"\u001b[39m\u001b[39mKobe Bryant 23\u001b[39m\u001b[39m\"\u001b[39m\n\u001b[1;32m      <a href='vscode-notebook-cell://ssh-remote%2B140.116.52.214/home/re6114056/midterm_handwrite_littlemlilk.ipynb#X33sdnNjb2RlLXJlbW90ZQ%3D%3D?line=3'>4</a>\u001b[0m d1[\u001b[39m2\u001b[39m] \u001b[39m=\u001b[39m \u001b[39m\"\u001b[39m\u001b[39m24\u001b[39m\u001b[39m\"\u001b[39m\n\u001b[0;32m----> <a href='vscode-notebook-cell://ssh-remote%2B140.116.52.214/home/re6114056/midterm_handwrite_littlemlilk.ipynb#X33sdnNjb2RlLXJlbW90ZQ%3D%3D?line=4'>5</a>\u001b[0m d2[\u001b[39m12\u001b[39m:] \u001b[39m=\u001b[39m \u001b[39m'\u001b[39m\u001b[39m24\u001b[39m\u001b[39m'\u001b[39m\n\u001b[1;32m      <a href='vscode-notebook-cell://ssh-remote%2B140.116.52.214/home/re6114056/midterm_handwrite_littlemlilk.ipynb#X33sdnNjb2RlLXJlbW90ZQ%3D%3D?line=5'>6</a>\u001b[0m \u001b[39mprint\u001b[39m(d1, d2)\n\u001b[1;32m      <a href='vscode-notebook-cell://ssh-remote%2B140.116.52.214/home/re6114056/midterm_handwrite_littlemlilk.ipynb#X33sdnNjb2RlLXJlbW90ZQ%3D%3D?line=6'>7</a>\u001b[0m \u001b[39mprint\u001b[39m(\u001b[39m'\u001b[39m\u001b[39minvalid, str object does not support item assignment\u001b[39m\u001b[39m'\u001b[39m)\n",
      "\u001b[0;31mTypeError\u001b[0m: 'str' object does not support item assignment"
     ]
    }
   ],
   "source": [
    "# a\n",
    "d1 = [\"Kobe\", \"Bryant\", 23]\n",
    "d2 = \"Kobe Bryant 23\"\n",
    "d1[2] = \"24\"\n",
    "d2[12:] = '24'\n",
    "print(d1, d2)\n",
    "print('invalid, str object does not support item assignment')"
   ]
  },
  {
   "cell_type": "code",
   "execution_count": 48,
   "metadata": {},
   "outputs": [
    {
     "name": "stdout",
     "output_type": "stream",
     "text": [
      "75.0\n"
     ]
    }
   ],
   "source": [
    "# b\n",
    "scores = [80, 70, 60, 90]\n",
    "print((sum(scores)/len(scores)))\n",
    "\n",
    "# 數值經過\"/\"後，資料型態會轉變為浮點數。"
   ]
  },
  {
   "cell_type": "code",
   "execution_count": 6,
   "metadata": {},
   "outputs": [
    {
     "ename": "TypeError",
     "evalue": "can only concatenate list (not \"str\") to list",
     "output_type": "error",
     "traceback": [
      "\u001b[0;31m---------------------------------------------------------------------------\u001b[0m",
      "\u001b[0;31mTypeError\u001b[0m                                 Traceback (most recent call last)",
      "\u001b[1;32m/home/re6114056/midterm_handwrite_littlemlilk.ipynb Cell 26\u001b[0m in \u001b[0;36m3\n\u001b[1;32m      <a href='vscode-notebook-cell://ssh-remote%2B140.116.52.214/home/re6114056/midterm_handwrite_littlemlilk.ipynb#X35sdnNjb2RlLXJlbW90ZQ%3D%3D?line=0'>1</a>\u001b[0m \u001b[39m# c\u001b[39;00m\n\u001b[1;32m      <a href='vscode-notebook-cell://ssh-remote%2B140.116.52.214/home/re6114056/midterm_handwrite_littlemlilk.ipynb#X35sdnNjb2RlLXJlbW90ZQ%3D%3D?line=1'>2</a>\u001b[0m game \u001b[39m=\u001b[39m [\u001b[39m'\u001b[39m\u001b[39mrock\u001b[39m\u001b[39m'\u001b[39m, \u001b[39m'\u001b[39m\u001b[39mpaper\u001b[39m\u001b[39m'\u001b[39m]\n\u001b[0;32m----> <a href='vscode-notebook-cell://ssh-remote%2B140.116.52.214/home/re6114056/midterm_handwrite_littlemlilk.ipynb#X35sdnNjb2RlLXJlbW90ZQ%3D%3D?line=2'>3</a>\u001b[0m game \u001b[39m=\u001b[39m game \u001b[39m+\u001b[39m \u001b[39m\"\u001b[39m\u001b[39mscissor\u001b[39m\u001b[39m\"\u001b[39m\n\u001b[1;32m      <a href='vscode-notebook-cell://ssh-remote%2B140.116.52.214/home/re6114056/midterm_handwrite_littlemlilk.ipynb#X35sdnNjb2RlLXJlbW90ZQ%3D%3D?line=3'>4</a>\u001b[0m \u001b[39mprint\u001b[39m(game)\n\u001b[1;32m      <a href='vscode-notebook-cell://ssh-remote%2B140.116.52.214/home/re6114056/midterm_handwrite_littlemlilk.ipynb#X35sdnNjb2RlLXJlbW90ZQ%3D%3D?line=4'>5</a>\u001b[0m \u001b[39mprint\u001b[39m(\u001b[39m'\u001b[39m\u001b[39minvalid, list can\u001b[39m\u001b[39m\\'\u001b[39;00m\u001b[39mt add with str\u001b[39m\u001b[39m'\u001b[39m)\n",
      "\u001b[0;31mTypeError\u001b[0m: can only concatenate list (not \"str\") to list"
     ]
    }
   ],
   "source": [
    "# c\n",
    "game = ['rock', 'paper']\n",
    "game = game + \"scissor\"\n",
    "print(game)\n",
    "print('invalid, list can\\'t add with str')\n",
    "# list 不可與string相加\n",
    "# 可更改為 game = game + [\"scissor\"]\n",
    "# 可更改為 game.append(\"scissor\")"
   ]
  },
  {
   "cell_type": "code",
   "execution_count": 9,
   "metadata": {},
   "outputs": [
    {
     "name": "stdout",
     "output_type": "stream",
     "text": [
      "[3, 5, 2, 3, 5, 2]\n",
      "[[3, 5, 2], [3, 5, 2]]\n"
     ]
    }
   ],
   "source": [
    "# d\n",
    "n = [1, 3, 5, 2, 4, 6]\n",
    "print(n[1:4] * 2)\n",
    "\n"
   ]
  },
  {
   "cell_type": "code",
   "execution_count": 55,
   "metadata": {},
   "outputs": [
    {
     "name": "stdout",
     "output_type": "stream",
     "text": [
      "True\n"
     ]
    }
   ],
   "source": [
    "# e\n",
    "notes = [\"Do\", \"Re\", \"Mi\"]\n",
    "print(notes[2] == \"Mi\")\n",
    "\n",
    "# index     0      1    2\n",
    "# notes = [\"Do\", \"Re\", \"Mi\"]"
   ]
  },
  {
   "cell_type": "code",
   "execution_count": 56,
   "metadata": {},
   "outputs": [
    {
     "name": "stdout",
     "output_type": "stream",
     "text": [
      "[1, 2, 3, 4, [5], 6]\n"
     ]
    }
   ],
   "source": [
    "# f\n",
    "list = [1, 2, 3]\n",
    "list.append(4)\n",
    "list.append([5])\n",
    "list.extend([6])\n",
    "print(list)\n",
    "\n",
    "# 輸出為List型態"
   ]
  },
  {
   "cell_type": "code",
   "execution_count": 57,
   "metadata": {},
   "outputs": [
    {
     "name": "stdout",
     "output_type": "stream",
     "text": [
      "['I', 'love', 'Python']\n"
     ]
    }
   ],
   "source": [
    "# g\n",
    "data = \"I love Python\"\n",
    "print(data.split(\" \"))\n",
    "\n",
    "# 文字型態需要有＂＂\n",
    "# 輸出為List型態"
   ]
  },
  {
   "cell_type": "code",
   "execution_count": 7,
   "metadata": {},
   "outputs": [
    {
     "name": "stdout",
     "output_type": "stream",
     "text": [
      "[1, 2, 5, 4]\n",
      "[1, 2, 3, 4]\n"
     ]
    }
   ],
   "source": [
    "# h\n",
    "v = [1, 2, 3, 4]\n",
    "p = list(v)\n",
    "p[2] = 5\n",
    "print(p)\n",
    "print(v)\n",
    "# 輸出為List型態"
   ]
  },
  {
   "cell_type": "code",
   "execution_count": 66,
   "metadata": {},
   "outputs": [
    {
     "name": "stdout",
     "output_type": "stream",
     "text": [
      "[1, 2, 5, 4]\n",
      "[1, 2, 5, 4]\n"
     ]
    }
   ],
   "source": [
    "# i\n",
    "v = [1, 2, 3, 4]\n",
    "p = v\n",
    "p[2] = 5\n",
    "print(p)\n",
    "print(v)\n",
    "# 輸出為List型態"
   ]
  },
  {
   "cell_type": "code",
   "execution_count": 67,
   "metadata": {},
   "outputs": [
    {
     "name": "stdout",
     "output_type": "stream",
     "text": [
      "[5, 3, 2, 0]\n"
     ]
    }
   ],
   "source": [
    "# j\n",
    "x = [5, 3, 2, 6, 1]\n",
    "x.pop()\n",
    "x.remove(6)\n",
    "x.insert(0, 0)\n",
    "x.sort(reverse=True)\n",
    "print(x)\n",
    "# 輸出為List型態"
   ]
  },
  {
   "cell_type": "markdown",
   "metadata": {},
   "source": [
    "## 4"
   ]
  },
  {
   "cell_type": "code",
   "execution_count": 68,
   "metadata": {},
   "outputs": [],
   "source": [
    "def four(x):\n",
    "    if x % 2 != 0:\n",
    "        if x ** 2 <= 36:\n",
    "            print('pow')\n",
    "        else:\n",
    "            print(x // 3)\n",
    "    else:\n",
    "        if x < 0:\n",
    "            print(False)\n",
    "        elif not x + 2 > 8:\n",
    "            print(x / 2)\n",
    "        else:\n",
    "            print('end')"
   ]
  },
  {
   "cell_type": "code",
   "execution_count": 70,
   "metadata": {},
   "outputs": [
    {
     "name": "stdout",
     "output_type": "stream",
     "text": [
      "1.0\n",
      "4\n",
      "False\n",
      "end\n"
     ]
    }
   ],
   "source": [
    "four(2)　# 數值經過\"/\"後，資料型態會轉變為浮點數。\n",
    "four(13)\n",
    "four(-8)\n",
    "four(10)"
   ]
  },
  {
   "cell_type": "markdown",
   "metadata": {},
   "source": [
    "## 5"
   ]
  },
  {
   "cell_type": "code",
   "execution_count": 8,
   "metadata": {},
   "outputs": [
    {
     "name": "stdout",
     "output_type": "stream",
     "text": [
      "Output:  5.4.32.1\n"
     ]
    }
   ],
   "source": [
    "def five():\n",
    "    s = input('Input: ')\n",
    "    result = ''\n",
    "    i = 0\n",
    "    while i < len(s) :\n",
    "        current = s[i]\n",
    "        result = result + current\n",
    "        i = i + 1\n",
    "        while  (i < len(s) and s[i] == current):\n",
    "            i = i + 1\n",
    "        \n",
    "    print('Output: ', result)\n",
    "five()"
   ]
  },
  {
   "cell_type": "markdown",
   "metadata": {},
   "source": [
    "## 6"
   ]
  },
  {
   "cell_type": "code",
   "execution_count": 75,
   "metadata": {},
   "outputs": [
    {
     "name": "stdout",
     "output_type": "stream",
     "text": [
      "Seconds in a day = 4225\n"
     ]
    }
   ],
   "source": [
    "text = input(\"Enter a time (h:m:s): \")\n",
    "ls_time = text.split(':')\n",
    "total_secs = 0\n",
    "total_secs = 0\n",
    "total_secs += int(ls_time[0]) * 3600\n",
    "total_secs += int(ls_time[1]) * 60\n",
    "total_secs += int(ls_time[2])\n",
    "print('Seconds in a day = %d' % total_secs)"
   ]
  },
  {
   "cell_type": "markdown",
   "metadata": {},
   "source": [
    "## 7"
   ]
  },
  {
   "cell_type": "code",
   "execution_count": 79,
   "metadata": {},
   "outputs": [
    {
     "name": "stdout",
     "output_type": "stream",
     "text": [
      "Prime list (2-20):  [2, 3, 5, 7, 11, 13, 17, 19]\n"
     ]
    }
   ],
   "source": [
    "text = input('Enter a positive integer: ')\n",
    "number = int(text)\n",
    "ls_prime = []\n",
    "i = 2\n",
    "while i < number:\n",
    "    cnt = 0\n",
    "    k = 2\n",
    "    while k < i:\n",
    "        if i % k == 0:\n",
    "            cnt += 1\n",
    "        if cnt > 1:\n",
    "            break\n",
    "        k += 1\n",
    "    if cnt == 0:\n",
    "        ls_prime.append(i)\n",
    "    i += 1\n",
    "print(\"Prime list (2-%d): \" % number, ls_prime)"
   ]
  },
  {
   "cell_type": "markdown",
   "metadata": {},
   "source": [
    "## 8"
   ]
  },
  {
   "cell_type": "code",
   "execution_count": 83,
   "metadata": {},
   "outputs": [
    {
     "name": "stdout",
     "output_type": "stream",
     "text": [
      "9 x 1 = 9\t6 x 1 = 6\t3 x 1 = 3\n",
      "9 x 2 = 18\t6 x 2 = 12\t3 x 2 = 6\n",
      "9 x 3 = 27\t6 x 3 = 18\t3 x 3 = 9\n",
      "9 x 4 = 36\t6 x 4 = 24\t3 x 4 = 12\n",
      "9 x 5 = 45\t6 x 5 = 30\t3 x 5 = 15\n",
      "9 x 6 = 54\t6 x 6 = 36\t3 x 6 = 18\n",
      "9 x 7 = 63\t6 x 7 = 42\t3 x 7 = 21\n",
      "9 x 8 = 72\t6 x 8 = 48\t3 x 8 = 24\n",
      "9 x 9 = 81\t6 x 9 = 54\t3 x 9 = 27\n",
      "\n",
      "8 x 1 = 8\t5 x 1 = 5\t2 x 1 = 2\n",
      "8 x 2 = 16\t5 x 2 = 10\t2 x 2 = 4\n",
      "8 x 3 = 24\t5 x 3 = 15\t2 x 3 = 6\n",
      "8 x 4 = 32\t5 x 4 = 20\t2 x 4 = 8\n",
      "8 x 5 = 40\t5 x 5 = 25\t2 x 5 = 10\n",
      "8 x 6 = 48\t5 x 6 = 30\t2 x 6 = 12\n",
      "8 x 7 = 56\t5 x 7 = 35\t2 x 7 = 14\n",
      "8 x 8 = 64\t5 x 8 = 40\t2 x 8 = 16\n",
      "8 x 9 = 72\t5 x 9 = 45\t2 x 9 = 18\n",
      "\n",
      "7 x 1 = 7\t4 x 1 = 4\t1 x 1 = 1\n",
      "7 x 2 = 14\t4 x 2 = 8\t1 x 2 = 2\n",
      "7 x 3 = 21\t4 x 3 = 12\t1 x 3 = 3\n",
      "7 x 4 = 28\t4 x 4 = 16\t1 x 4 = 4\n",
      "7 x 5 = 35\t4 x 5 = 20\t1 x 5 = 5\n",
      "7 x 6 = 42\t4 x 6 = 24\t1 x 6 = 6\n",
      "7 x 7 = 49\t4 x 7 = 28\t1 x 7 = 7\n",
      "7 x 8 = 56\t4 x 8 = 32\t1 x 8 = 8\n",
      "7 x 9 = 63\t4 x 9 = 36\t1 x 9 = 9\n",
      "\n"
     ]
    }
   ],
   "source": [
    "i = 9\n",
    "while i > 6:\n",
    "    a = i\n",
    "    b = i - 3\n",
    "    c = i - 6\n",
    "    j = 1\n",
    "    while j < 10:\n",
    "        print('%d x %d = %d' % (a, j, a*j), end='\\t')\n",
    "        print('%d x %d = %d' % (b, j, b*j), end='\\t')\n",
    "        print('%d x %d = %d' % (c, j, c*j))\n",
    "        j += 1\n",
    "    print()\n",
    "    i -= 1"
   ]
  },
  {
   "cell_type": "code",
   "execution_count": null,
   "metadata": {},
   "outputs": [],
   "source": []
  }
 ],
 "metadata": {
  "kernelspec": {
   "display_name": "python39_kernel",
   "language": "python",
   "name": "python39_kernel"
  },
  "language_info": {
   "codemirror_mode": {
    "name": "ipython",
    "version": 3
   },
   "file_extension": ".py",
   "mimetype": "text/x-python",
   "name": "python",
   "nbconvert_exporter": "python",
   "pygments_lexer": "ipython3",
   "version": "3.9.13"
  }
 },
 "nbformat": 4,
 "nbformat_minor": 4
}
